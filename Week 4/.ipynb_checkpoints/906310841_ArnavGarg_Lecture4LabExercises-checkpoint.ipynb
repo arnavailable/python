{
 "cells": [
  {
   "cell_type": "markdown",
   "id": "db5692b5-d231-4045-bc66-16116876a937",
   "metadata": {},
   "source": [
    "# <u>Lecture 4 Lab Exercises</u>"
   ]
  },
  {
   "cell_type": "markdown",
   "id": "98b6cbdb-8957-43ed-a59d-94c1e7a8e8c3",
   "metadata": {
    "tags": []
   },
   "source": [
    "<span style=\"color:green\"> I did all the required exercises and fully understand them.</span>"
   ]
  },
  {
   "cell_type": "markdown",
   "id": "df0e0964-eb42-49a5-aadd-0cd8edc652f2",
   "metadata": {},
   "source": [
    "Exercise | Comments\n",
    "---|---\n",
    "5.27|Done\n",
    "6.6|Done\n",
    "6.9|Done\n",
    "7.2|Done\n",
    "7.9|Done"
   ]
  },
  {
   "cell_type": "markdown",
   "id": "ce550710-2a2c-4577-805b-6ead0fdbefb2",
   "metadata": {},
   "source": [
    "## _**5.27** Data Science: Duplicate Elimination and Counting Frequencies_"
   ]
  },
  {
   "cell_type": "code",
   "execution_count": 1,
   "id": "87f62c5a-fa9e-47fd-9d4a-4a2958b21ead",
   "metadata": {},
   "outputs": [],
   "source": [
    "import random\n",
    "import numpy"
   ]
  },
  {
   "cell_type": "code",
   "execution_count": 2,
   "id": "228118f4-2fa8-4a47-8bf9-5c865466361c",
   "metadata": {
    "tags": []
   },
   "outputs": [],
   "source": [
    "numbers = [random.randrange(1, 10) for values in range(50)]"
   ]
  },
  {
   "cell_type": "code",
   "execution_count": 3,
   "id": "646e2885-5797-4c7a-92d5-7ee72f54dca2",
   "metadata": {
    "tags": []
   },
   "outputs": [],
   "source": [
    "values, counts = numpy.unique(numbers, return_counts = True)"
   ]
  },
  {
   "cell_type": "code",
   "execution_count": 4,
   "id": "fec28cbc-5f4f-4302-b403-3ecb80ce2a2f",
   "metadata": {
    "tags": []
   },
   "outputs": [
    {
     "name": "stdout",
     "output_type": "stream",
     "text": [
      "Values  Counts   Bar\n",
      "     1       4   ****\n",
      "     2       6   ******\n",
      "     3       4   ****\n",
      "     4       5   *****\n",
      "     5       5   *****\n",
      "     6       7   *******\n",
      "     7       1   *\n",
      "     8      12   ************\n",
      "     9       6   ******\n"
     ]
    }
   ],
   "source": [
    "print(f'Values{\"Counts\":>8}   Bar')\n",
    "for index in range(len(values)):\n",
    "    print(f'{values[index]:>6}{counts[index]:>8}   {\"*\" * counts[index]}')"
   ]
  },
  {
   "cell_type": "markdown",
   "id": "d671b8fd-be54-4cb2-b3e5-6d7732e78dd8",
   "metadata": {},
   "source": [
    "In this exercise, I imported the necessary libraries. I made the list of numbers as decribed using list comprehensions. I stored values and counts using numpy's unique function. Finally, I displayed the values and counts using a f-string."
   ]
  },
  {
   "cell_type": "markdown",
   "id": "69e0dc1a-6f2d-490e-9554-9eb9c7e53630",
   "metadata": {},
   "source": [
    "## _**6.6** Data Science: Duplicate Word Removal_"
   ]
  },
  {
   "cell_type": "code",
   "execution_count": 5,
   "id": "9d8ccf9a-b282-4f2f-be8f-78c1ef7035d1",
   "metadata": {
    "tags": []
   },
   "outputs": [],
   "source": [
    "def removal(words):\n",
    "    \n",
    "    \"\"\" This function receives a list of words, \\\n",
    "    then determines and returns a sorted list of the unique words, \\\n",
    "    treating uppercase and lowercase the same. \"\"\"\n",
    "    \n",
    "    output = [word.lower() for word in words]\n",
    "    output = numpy.unique(output)\n",
    "    output = sorted(output)\n",
    "    # return(output)\n",
    "    for word in output:\n",
    "        print(word)"
   ]
  },
  {
   "cell_type": "code",
   "execution_count": 6,
   "id": "8f75712b-6710-4b68-80b7-f4261cff9431",
   "metadata": {
    "tags": []
   },
   "outputs": [
    {
     "name": "stdout",
     "output_type": "stream",
     "text": [
      "a\n",
      "apple\n",
      "but\n",
      "company\n",
      "fruit\n",
      "has\n",
      "is\n",
      "logo\n",
      "red\n",
      "the\n",
      "white\n"
     ]
    }
   ],
   "source": [
    "words = ['The', 'fruit', 'apple', 'is', 'red', 'but', 'the', 'company', 'Apple', 'has', 'a', 'white', 'logo']\n",
    "removal(words)"
   ]
  },
  {
   "cell_type": "code",
   "execution_count": 7,
   "id": "cc15bf52-a1b0-4392-98fb-998545874e14",
   "metadata": {
    "tags": []
   },
   "outputs": [
    {
     "name": "stdout",
     "output_type": "stream",
     "text": [
      "a\n",
      "and\n",
      "asked\n",
      "bike\n",
      "but\n",
      "does\n",
      "for\n",
      "forgiveness\n",
      "god\n",
      "i\n",
      "know\n",
      "not\n",
      "so\n",
      "stole\n",
      "that\n",
      "way\n",
      "work\n"
     ]
    }
   ],
   "source": [
    "words = ['I', 'asked', 'God', 'for', 'a', 'bike', 'but', 'I', 'know', 'God', 'does', 'not', 'work', 'that', 'way', \\\n",
    "         'So', 'I', 'stole', 'a', 'bike', 'and', 'asked', 'for', 'forgiveness']\n",
    "removal(words)"
   ]
  },
  {
   "cell_type": "markdown",
   "id": "8591f297-e427-4c48-9152-bc9d574100b4",
   "metadata": {},
   "source": [
    "In this exercise, I defined a function `removal`. The function first makes all words lowercase, then selects only unique values, then sorts the list lexographically. Finally, it outputs each element of the list in a new line. I tested the function using two lists."
   ]
  },
  {
   "cell_type": "markdown",
   "id": "9633c485-630f-439e-b7b9-92a70e429e45",
   "metadata": {
    "tags": []
   },
   "source": [
    "## _**6.9** Dictionary Manipulations_"
   ]
  },
  {
   "cell_type": "code",
   "execution_count": 8,
   "id": "c775d92b-2a1e-4bb8-9cc4-f1d3812361e2",
   "metadata": {
    "tags": []
   },
   "outputs": [],
   "source": [
    "tlds = {'Canada': 'ca', 'United States': 'us', 'Mexico': 'mx'}"
   ]
  },
  {
   "cell_type": "markdown",
   "id": "d0e837ac-c9fb-4e68-ad54-c156d22a4f93",
   "metadata": {
    "tags": []
   },
   "source": [
    "### (a)"
   ]
  },
  {
   "cell_type": "code",
   "execution_count": 9,
   "id": "04a3ab8d-63c2-456a-988a-4638c4b156ad",
   "metadata": {
    "tags": []
   },
   "outputs": [
    {
     "data": {
      "text/plain": [
       "True"
      ]
     },
     "execution_count": 9,
     "metadata": {},
     "output_type": "execute_result"
    }
   ],
   "source": [
    "'Canada' in tlds"
   ]
  },
  {
   "cell_type": "markdown",
   "id": "bae49ba6-c2ee-4677-931c-8b5d3668781b",
   "metadata": {},
   "source": [
    "### (b)"
   ]
  },
  {
   "cell_type": "code",
   "execution_count": 10,
   "id": "7c830f70-b8f0-4b89-b69d-aab59d6928ca",
   "metadata": {
    "tags": []
   },
   "outputs": [
    {
     "data": {
      "text/plain": [
       "False"
      ]
     },
     "execution_count": 10,
     "metadata": {},
     "output_type": "execute_result"
    }
   ],
   "source": [
    "'France' in tlds"
   ]
  },
  {
   "cell_type": "markdown",
   "id": "9dd83896-2388-4ef1-b9d1-470ac2a33021",
   "metadata": {},
   "source": [
    "### (c)"
   ]
  },
  {
   "cell_type": "code",
   "execution_count": 11,
   "id": "7b3b546f-22bd-4244-80c8-62ca808b55f3",
   "metadata": {
    "tags": []
   },
   "outputs": [
    {
     "name": "stdout",
     "output_type": "stream",
     "text": [
      "        Country      Code\n",
      "         Canada        ca\n",
      "  United States        us\n",
      "         Mexico        mx\n"
     ]
    }
   ],
   "source": [
    "print(f'{\"Country\":>15}{\"Code\":>10}')\n",
    "\n",
    "for country, code in tlds.items():\n",
    "    print(f'{country:>15}{code:>10}')"
   ]
  },
  {
   "cell_type": "markdown",
   "id": "b036b57b-27f4-4654-9688-6740f166cd1a",
   "metadata": {},
   "source": [
    "### (d)"
   ]
  },
  {
   "cell_type": "code",
   "execution_count": 12,
   "id": "1b899500-d50e-490f-bae4-a9371a5fdaf1",
   "metadata": {
    "tags": []
   },
   "outputs": [
    {
     "data": {
      "text/plain": [
       "{'Canada': 'ca', 'United States': 'us', 'Mexico': 'mx', 'Sweden': 'sw'}"
      ]
     },
     "execution_count": 12,
     "metadata": {},
     "output_type": "execute_result"
    }
   ],
   "source": [
    "tlds['Sweden'] = 'sw'\n",
    "tlds"
   ]
  },
  {
   "cell_type": "markdown",
   "id": "f3142671-e013-4ab0-9406-38005b229640",
   "metadata": {},
   "source": [
    "### (e)"
   ]
  },
  {
   "cell_type": "code",
   "execution_count": 13,
   "id": "1ebb3563-8227-49e0-b3d9-77d2a689b93a",
   "metadata": {
    "tags": []
   },
   "outputs": [
    {
     "data": {
      "text/plain": [
       "{'Canada': 'ca', 'United States': 'us', 'Mexico': 'mx', 'Sweden': 'se'}"
      ]
     },
     "execution_count": 13,
     "metadata": {},
     "output_type": "execute_result"
    }
   ],
   "source": [
    "tlds.update(Sweden = 'se')\n",
    "tlds"
   ]
  },
  {
   "cell_type": "markdown",
   "id": "bac7054b-3809-40cc-a990-9cde5e14a34f",
   "metadata": {},
   "source": [
    "### (f)"
   ]
  },
  {
   "cell_type": "code",
   "execution_count": 14,
   "id": "ca23bbde-0136-4f10-a890-35bf6e1406c0",
   "metadata": {
    "tags": []
   },
   "outputs": [
    {
     "data": {
      "text/plain": [
       "{'ca': 'Canada', 'us': 'United States', 'mx': 'Mexico', 'se': 'Sweden'}"
      ]
     },
     "execution_count": 14,
     "metadata": {},
     "output_type": "execute_result"
    }
   ],
   "source": [
    "tlds = {code: country for country, code in tlds.items()}\n",
    "tlds"
   ]
  },
  {
   "cell_type": "markdown",
   "id": "dcbca031-64e6-4c3e-9ce1-5902b5c5109c",
   "metadata": {},
   "source": [
    "### (g)"
   ]
  },
  {
   "cell_type": "code",
   "execution_count": 15,
   "id": "0fb1629d-7fb6-417f-8300-ad4a24d5eafa",
   "metadata": {
    "tags": []
   },
   "outputs": [
    {
     "data": {
      "text/plain": [
       "{'ca': 'CANADA', 'us': 'UNITED STATES', 'mx': 'MEXICO', 'se': 'SWEDEN'}"
      ]
     },
     "execution_count": 15,
     "metadata": {},
     "output_type": "execute_result"
    }
   ],
   "source": [
    "tlds = {code: country.upper() for code, country in tlds.items()}\n",
    "tlds"
   ]
  },
  {
   "cell_type": "markdown",
   "id": "a403cc4d-94b5-4ce4-84db-977ff307b796",
   "metadata": {},
   "source": [
    "In this exercise, I used various dictionary operations to perform the required transformations as listed in the question."
   ]
  },
  {
   "cell_type": "markdown",
   "id": "704e9ba8-3b5a-4daf-8585-a7157ca7f799",
   "metadata": {},
   "source": [
    "## _**7.2** Broadcasting_"
   ]
  },
  {
   "cell_type": "code",
   "execution_count": 16,
   "id": "d7bb0373-fdca-48b6-90a9-9308f1d382b8",
   "metadata": {
    "tags": []
   },
   "outputs": [
    {
     "data": {
      "text/plain": [
       "array([[0, 1],\n",
       "       [2, 3]])"
      ]
     },
     "execution_count": 16,
     "metadata": {},
     "output_type": "execute_result"
    }
   ],
   "source": [
    "matrix = numpy.arange(start = 0, stop = 4).reshape(2, 2)\n",
    "matrix"
   ]
  },
  {
   "cell_type": "markdown",
   "id": "3905363e-478c-4dbb-8335-8bae3cd09e6f",
   "metadata": {},
   "source": [
    "### (a)"
   ]
  },
  {
   "cell_type": "code",
   "execution_count": 17,
   "id": "a70f5e2d-11b9-4291-b03c-6193e68592a2",
   "metadata": {
    "tags": []
   },
   "outputs": [
    {
     "data": {
      "text/plain": [
       "array([[ 0,  1],\n",
       "       [ 8, 27]])"
      ]
     },
     "execution_count": 17,
     "metadata": {},
     "output_type": "execute_result"
    }
   ],
   "source": [
    "matrix ** 3"
   ]
  },
  {
   "cell_type": "markdown",
   "id": "b1662f22-1796-4007-9d24-d2e6897c38b8",
   "metadata": {},
   "source": [
    "### (b)"
   ]
  },
  {
   "cell_type": "code",
   "execution_count": 18,
   "id": "ebd9376e-ba57-4d11-abfc-94d631f4a062",
   "metadata": {
    "tags": []
   },
   "outputs": [
    {
     "data": {
      "text/plain": [
       "array([[ 7,  8],\n",
       "       [ 9, 10]])"
      ]
     },
     "execution_count": 18,
     "metadata": {},
     "output_type": "execute_result"
    }
   ],
   "source": [
    "matrix + 7"
   ]
  },
  {
   "cell_type": "markdown",
   "id": "295273bd-736b-4a8c-bc9d-cbfec209b839",
   "metadata": {},
   "source": [
    "### (c)"
   ]
  },
  {
   "cell_type": "code",
   "execution_count": 19,
   "id": "2f0afa51-2194-4b30-a0cf-93541514d275",
   "metadata": {
    "tags": []
   },
   "outputs": [
    {
     "data": {
      "text/plain": [
       "array([[0, 2],\n",
       "       [4, 6]])"
      ]
     },
     "execution_count": 19,
     "metadata": {},
     "output_type": "execute_result"
    }
   ],
   "source": [
    "matrix * 2"
   ]
  },
  {
   "cell_type": "markdown",
   "id": "a16fd5cf-e679-43ac-b913-95f47796e4f0",
   "metadata": {},
   "source": [
    "In this exercise, I created a 2 x 2 matrix using `arange` and `reshape` as defined in the question. Then, I used broadcasting to perform the necessary operations on the matrix as described in the question."
   ]
  },
  {
   "cell_type": "markdown",
   "id": "d6958329-c18d-44e5-a2fd-21a2705bbb0a",
   "metadata": {},
   "source": [
    "## _**7.9** Data Science: Indexing and Slicing Arrays_"
   ]
  },
  {
   "cell_type": "code",
   "execution_count": 20,
   "id": "e50074dc-8cef-4720-af34-c47525197260",
   "metadata": {
    "tags": []
   },
   "outputs": [
    {
     "data": {
      "text/plain": [
       "array([[ 1,  2,  3,  4,  5],\n",
       "       [ 6,  7,  8,  9, 10],\n",
       "       [11, 12, 13, 14, 15]])"
      ]
     },
     "execution_count": 20,
     "metadata": {},
     "output_type": "execute_result"
    }
   ],
   "source": [
    "matrix = numpy.arange(start = 1, stop = 16).reshape(3, 5)\n",
    "matrix"
   ]
  },
  {
   "cell_type": "markdown",
   "id": "60c58f51-2f34-480b-a97d-343365710352",
   "metadata": {
    "tags": []
   },
   "source": [
    "### (a)"
   ]
  },
  {
   "cell_type": "code",
   "execution_count": 21,
   "id": "24bfc19f-8cc0-455e-9f12-46def0724954",
   "metadata": {
    "tags": []
   },
   "outputs": [
    {
     "data": {
      "text/plain": [
       "array([11, 12, 13, 14, 15])"
      ]
     },
     "execution_count": 21,
     "metadata": {},
     "output_type": "execute_result"
    }
   ],
   "source": [
    "matrix[2]"
   ]
  },
  {
   "cell_type": "markdown",
   "id": "f33967eb-5c47-48b8-b711-ae08fc372ea6",
   "metadata": {},
   "source": [
    "### (b)"
   ]
  },
  {
   "cell_type": "code",
   "execution_count": 22,
   "id": "bdd77fb8-cb80-4c8f-8d34-0d09051a6d87",
   "metadata": {
    "tags": []
   },
   "outputs": [
    {
     "data": {
      "text/plain": [
       "array([ 5, 10, 15])"
      ]
     },
     "execution_count": 22,
     "metadata": {},
     "output_type": "execute_result"
    }
   ],
   "source": [
    "matrix[:, 4]"
   ]
  },
  {
   "cell_type": "markdown",
   "id": "7a66c297-c305-41f8-a130-7d04f04d6c92",
   "metadata": {},
   "source": [
    "### (c)"
   ]
  },
  {
   "cell_type": "code",
   "execution_count": 23,
   "id": "c8b9227e-02ec-48b3-8533-542777229849",
   "metadata": {
    "tags": []
   },
   "outputs": [
    {
     "data": {
      "text/plain": [
       "array([[ 1,  2,  3,  4,  5],\n",
       "       [ 6,  7,  8,  9, 10]])"
      ]
     },
     "execution_count": 23,
     "metadata": {},
     "output_type": "execute_result"
    }
   ],
   "source": [
    "matrix[0:2]"
   ]
  },
  {
   "cell_type": "markdown",
   "id": "63b267ba-fa33-4636-ab2d-72da2ba6e46e",
   "metadata": {},
   "source": [
    "### (d)"
   ]
  },
  {
   "cell_type": "code",
   "execution_count": 24,
   "id": "f95bf588-1164-400c-938d-fe69fb2e25dd",
   "metadata": {
    "tags": []
   },
   "outputs": [
    {
     "data": {
      "text/plain": [
       "array([[ 3,  4,  5],\n",
       "       [ 8,  9, 10],\n",
       "       [13, 14, 15]])"
      ]
     },
     "execution_count": 24,
     "metadata": {},
     "output_type": "execute_result"
    }
   ],
   "source": [
    "matrix[:, 2:5]"
   ]
  },
  {
   "cell_type": "markdown",
   "id": "a11067c4-035b-4aee-8bf8-3cd37aca503c",
   "metadata": {},
   "source": [
    "### (e)"
   ]
  },
  {
   "cell_type": "code",
   "execution_count": 25,
   "id": "3278324c-9fa0-44bf-8128-a2260a7737bc",
   "metadata": {
    "tags": []
   },
   "outputs": [
    {
     "data": {
      "text/plain": [
       "10"
      ]
     },
     "execution_count": 25,
     "metadata": {},
     "output_type": "execute_result"
    }
   ],
   "source": [
    "matrix[1, 4]"
   ]
  },
  {
   "cell_type": "markdown",
   "id": "796a1b30-f2e4-46a2-af4d-191685ad9e20",
   "metadata": {},
   "source": [
    "### (f)"
   ]
  },
  {
   "cell_type": "code",
   "execution_count": 26,
   "id": "ad80a5eb-e001-461f-84e7-f322163428cf",
   "metadata": {
    "tags": []
   },
   "outputs": [
    {
     "data": {
      "text/plain": [
       "array([[ 6,  8, 10],\n",
       "       [11, 13, 15]])"
      ]
     },
     "execution_count": 26,
     "metadata": {},
     "output_type": "execute_result"
    }
   ],
   "source": [
    "matrix[1:3, [0, 2, 4]]"
   ]
  },
  {
   "cell_type": "markdown",
   "id": "d503e67d-e764-4b4e-8d3b-d9634b90171a",
   "metadata": {
    "tags": []
   },
   "source": [
    "In this exercise, I created a 3 x 5 matrix using `arange` and `reshape` as defined in the question. Then, I used slicing and indexing techniques on arrays to perform the necessary operations on the matrix as described in the question."
   ]
  }
 ],
 "metadata": {
  "kernelspec": {
   "display_name": "Python 3 (ipykernel)",
   "language": "python",
   "name": "python3"
  },
  "language_info": {
   "codemirror_mode": {
    "name": "ipython",
    "version": 3
   },
   "file_extension": ".py",
   "mimetype": "text/x-python",
   "name": "python",
   "nbconvert_exporter": "python",
   "pygments_lexer": "ipython3",
   "version": "3.11.5"
  }
 },
 "nbformat": 4,
 "nbformat_minor": 5
}
