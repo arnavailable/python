{
 "cells": [
  {
   "cell_type": "markdown",
   "metadata": {
    "slideshow": {
     "slide_type": "slide"
    },
    "tags": []
   },
   "source": [
    "# Jupyter and Markdown Reference\n",
    "To see how I formatted any item in this page, double-click the markdown cell to see the raw formatting."
   ]
  },
  {
   "cell_type": "markdown",
   "metadata": {},
   "source": [
    "<hr>"
   ]
  },
  {
   "cell_type": "markdown",
   "metadata": {},
   "source": [
    "# Jupyter Shortcuts\n",
    "### The following assume a cell is selected by clicking its left margin\n",
    "* `c` to copy a cell\n",
    "* `v` to paste a cell below the currently selected cell\n",
    "* `a` to insert cell above the currently selected cell\n",
    "* `b` to insert cell below the currently selected cell\n",
    "* `dd` to delete the currently selected cell\n",
    "* `m` to convert the currently selected cell to Markdown\n",
    "* _Shift_ + `m` to merge a range of selected cells\n",
    "\n",
    "### Splitting cells\n",
    "* _Ctrl_ + _Shift_ + `-` to split a cell at the cursor position"
   ]
  },
  {
   "cell_type": "markdown",
   "metadata": {},
   "source": [
    "<hr>"
   ]
  },
  {
   "cell_type": "markdown",
   "metadata": {
    "tags": []
   },
   "source": [
    "# Jupyter Markdown\n",
    "# HEADINGS\n",
    "* Headings should be meaningful. Always assume someone else is going to read your notebooks. \n",
    "* Use proper headings (#, ##, ###, etc.), rather than inserting text and making it bold. \n",
    "* Notebooks are often published as HTML online\n",
    "    * Web accessibility is important\n",
    "    * Sometimes it's required\n",
    "    \n",
    "# H1 head\n",
    "## H2 head\n",
    "### H3 head (probably won't need past here for most notebooks)\n",
    "#### H4 head\n",
    "##### H5 head\n",
    "###### H6 head"
   ]
  },
  {
   "cell_type": "markdown",
   "metadata": {},
   "source": [
    "---"
   ]
  },
  {
   "cell_type": "markdown",
   "metadata": {},
   "source": [
    "# Formatting\n",
    "The notes below are in a bullet list, which uses hanging indents\n",
    "* force a line break with two spaces at the end of the line  \n",
    "(note this line is indented to the same level as the prior line\n",
    "* Paragraphs are simply separated by a blank line\n",
    "* **Bold** text\n",
    "* _Italic_ text\n",
    "* `code` font in the middle of a paragraph\n",
    "* ~~lineout~~\n",
    "* [Custom hyperlink text (to deitel.com)](https://deitel.com)\n",
    "* https://python.org (URLs are autolinked)\n",
    "* The following is an indented block of text\n",
    "> Block quote\n",
    "> * anything can appear in a block quote\n",
    "> > Even another block quote\n",
    "* Horizontal line is at least three dashes\n",
    "---\n",
    "Numbered lists have hanging indents\n",
    "1. first  \n",
    "2. second \n",
    "    1. Note that this becomes A\n",
    "    2. Note that this becomes B\n",
    "        1. Note that this becomes a\n",
    "        2. Note that this becomes b\n",
    "            1. Note that this becomes i\n",
    "            2. Note that this becomes ii\n",
    "3. Nested numbered or bulleted lists are designated by tabs at the beginning of the line"
   ]
  },
  {
   "cell_type": "markdown",
   "metadata": {},
   "source": [
    "---"
   ]
  },
  {
   "cell_type": "markdown",
   "metadata": {},
   "source": [
    "# Code Blocks\n",
    "* Three back ticks (\\`) on a line by themselves, followed by code, followed by three back ticks (\\`) on a line by themselves\n",
    "* Jupyter has built in code syntax coloring for many languages—kernel dependent\n",
    "* Plain code\n",
    "\n",
    "```\n",
    "if number2 < minimum:\n",
    "    minimum = number2\n",
    "\n",
    "print('Minimum value is', minimum)\n",
    "\n",
    "```\n",
    "\n",
    "* Code with syntax coloring\n",
    "\n",
    "```python\n",
    "if number2 < minimum:\n",
    "    minimum = number2\n",
    "\n",
    "print('Minimum value is', minimum)\n",
    "```\n",
    "\n",
    "* You **do not need to do this** for code cells—they're code font and syntax colored automatically "
   ]
  },
  {
   "cell_type": "markdown",
   "metadata": {},
   "source": [
    "---"
   ]
  },
  {
   "cell_type": "markdown",
   "metadata": {},
   "source": [
    "# Formulas \n",
    "* $\\LaTeX$\n",
    "* Inline: $y = m_1 x_1 + m_2 x_2 + ... + m_n x_n + b$\n",
    "* Standalone: $$y = m_1 x_1 + m_2 x_2 + ... + m_n x_n + b$$\n",
    "\n",
    "> Formula Resources\n",
    "> * https://medium.com/analytics-vidhya/writing-math-equations-in-jupyter-notebook-a-naive-introduction-a5ce87b9a214\n",
    "> * https://en.wikibooks.org/wiki/LaTeX/Mathematics\n",
    "> * https://www.macinchem.org/reviews/LaTeXinJupyter.php"
   ]
  },
  {
   "cell_type": "markdown",
   "metadata": {},
   "source": [
    "---"
   ]
  },
  {
   "cell_type": "markdown",
   "metadata": {},
   "source": [
    "# Images\n",
    "* You also can use an `<img>` HTML element for finer control.\n",
    "\n",
    "![Deitel Bug Logo](./bug.png \"This is popup tooltip text commonly used by screen readers for accessibility\")"
   ]
  },
  {
   "cell_type": "markdown",
   "metadata": {},
   "source": [
    "---"
   ]
  },
  {
   "cell_type": "markdown",
   "metadata": {},
   "source": [
    "# Horizontal Line Separators\n",
    "* horizontal line separators can be added with at least three dashes on a line by themselves or `<hr/>`\n",
    "---\n",
    "<hr/>\n"
   ]
  },
  {
   "cell_type": "markdown",
   "metadata": {},
   "source": [
    "&copy; Copyright 2020 by Deitel & Associates, Inc. All Rights Reserved. https://deitel.com, paul@deitel.com "
   ]
  },
  {
   "cell_type": "markdown",
   "metadata": {},
   "source": [
    "<hr>"
   ]
  }
 ],
 "metadata": {
  "kernelspec": {
   "display_name": "Python 3 (ipykernel)",
   "language": "python",
   "name": "python3"
  },
  "language_info": {
   "codemirror_mode": {
    "name": "ipython",
    "version": 3
   },
   "file_extension": ".py",
   "mimetype": "text/x-python",
   "name": "python",
   "nbconvert_exporter": "python",
   "pygments_lexer": "ipython3",
   "version": "3.11.4"
  }
 },
 "nbformat": 4,
 "nbformat_minor": 4
}
