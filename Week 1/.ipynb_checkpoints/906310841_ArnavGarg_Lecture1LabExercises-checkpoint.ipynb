{
 "cells": [
  {
   "cell_type": "markdown",
   "id": "1867c9ed-e12f-49ca-9040-025d5719342b",
   "metadata": {},
   "source": [
    "##### <span style=\"color:green\"> I did all the required exercises and fully understand them.</span>"
   ]
  },
  {
   "cell_type": "markdown",
   "id": "df0e0964-eb42-49a5-aadd-0cd8edc652f2",
   "metadata": {},
   "source": [
    "Exercise | Comments\n",
    "---|---\n",
    "2.2|Done\n",
    "2.10|Done\n",
    "2.12|Done\n",
    "2.13|Done"
   ]
  },
  {
   "cell_type": "markdown",
   "id": "db5692b5-d231-4045-bc66-16116876a937",
   "metadata": {},
   "source": [
    "# <u>Chapter 2 Lab Exercises</u>"
   ]
  },
  {
   "cell_type": "markdown",
   "id": "69e0dc1a-6f2d-490e-9554-9eb9c7e53630",
   "metadata": {},
   "source": [
    "## _**2.2** What’s Wrong with This Code?_"
   ]
  },
  {
   "cell_type": "code",
   "execution_count": 16,
   "id": "d07ea0b3-0f3c-4f1f-a194-c14b19807ed8",
   "metadata": {},
   "outputs": [
    {
     "name": "stdin",
     "output_type": "stream",
     "text": [
      "Enter an integer rating between 1 and 10 1\n"
     ]
    },
    {
     "data": {
      "text/plain": [
       "'1'"
      ]
     },
     "execution_count": 16,
     "metadata": {},
     "output_type": "execute_result"
    }
   ],
   "source": [
    "rating = input('Enter an integer rating between 1 and 10')\n",
    "rating"
   ]
  },
  {
   "cell_type": "markdown",
   "id": "2e97a488-fa6f-4620-89cf-2cbe35caf7ec",
   "metadata": {},
   "source": [
    "##### The above code assigns the inputted number to the variable `rating` as a string. The problem can be solved simply by adding an `int` in front of the calculation to specify (typecast) which data type is to be assigned."
   ]
  },
  {
   "cell_type": "code",
   "execution_count": 18,
   "id": "afae015e-5da6-4509-9876-0e45c4609ca6",
   "metadata": {},
   "outputs": [
    {
     "name": "stdin",
     "output_type": "stream",
     "text": [
      "Enter an integer rating between 1 and 10 1\n"
     ]
    },
    {
     "data": {
      "text/plain": [
       "1"
      ]
     },
     "execution_count": 18,
     "metadata": {},
     "output_type": "execute_result"
    }
   ],
   "source": [
    "rating = int(input('Enter an integer rating between 1 and 10'))\n",
    "rating"
   ]
  },
  {
   "cell_type": "markdown",
   "id": "9633c485-630f-439e-b7b9-92a70e429e45",
   "metadata": {},
   "source": [
    "## _**2.10** Arithmetic, Smallest and Largest_"
   ]
  },
  {
   "cell_type": "code",
   "execution_count": null,
   "id": "89e31fa3-1619-436e-a17b-743ea1901880",
   "metadata": {},
   "outputs": [],
   "source": [
    "a = int(input('Enter first number'))\n",
    "b = int(input('Enter second number'))\n",
    "c = int(input('Enter third number'))\n",
    "\n",
    "## All parameters have been expressed as a reduction in functional-style programming ##\n",
    "import numpy\n",
    "print(\"The sum of these numbers is \" + str(numpy.sum((a,b,c))))\n",
    "print(\"The average of these numbers is \" + str(numpy.mean((a,b,c))))\n",
    "print(\"The product of these numbers is \" + str(numpy.prod((a,b,c))))\n",
    "print(\"The smallest of these numbers is \" + str(min((a,b,c))))\n",
    "print(\"The largest of these numbers is \" + str(max((a,b,c))))"
   ]
  },
  {
   "cell_type": "markdown",
   "id": "704e9ba8-3b5a-4daf-8585-a7157ca7f799",
   "metadata": {},
   "source": [
    "## _**2.12** 7% Investment Return_"
   ]
  },
  {
   "cell_type": "code",
   "execution_count": null,
   "id": "f0b5d662-8c43-42d9-a57f-c7a26bc89292",
   "metadata": {},
   "outputs": [],
   "source": [
    "for n in (10,20,30):\n",
    "    \n",
    "    a = 1000*((1+0.07)**n) ## Formula used is a = p(1 + r)^n where p = $1000 and r = 0.07\n",
    "    \n",
    "    print(\"Investment of $1000 at 7% return will become $\" + str(a) + \" over \" + str(n) + \" years\")"
   ]
  },
  {
   "cell_type": "markdown",
   "id": "d6958329-c18d-44e5-a2fd-21a2705bbb0a",
   "metadata": {},
   "source": [
    "## _**2.13** How Big Can Python Integers Be?_"
   ]
  },
  {
   "cell_type": "code",
   "execution_count": null,
   "id": "882be1c2-f1bd-4e33-9c15-f69807ce2dfd",
   "metadata": {},
   "outputs": [],
   "source": [
    "for n in (10, 100, 1000):\n",
    "    number = 10**n\n",
    "    print(number)"
   ]
  },
  {
   "cell_type": "markdown",
   "id": "3fd2c077-32ca-4f98-bfd7-1a21428e0b0b",
   "metadata": {},
   "source": [
    "##### Python integers can be really big!"
   ]
  }
 ],
 "metadata": {
  "kernelspec": {
   "display_name": "anaconda-panel-2023.05-py310",
   "language": "python",
   "name": "conda-env-anaconda-panel-2023.05-py310-py"
  },
  "language_info": {
   "codemirror_mode": {
    "name": "ipython",
    "version": 3
   },
   "file_extension": ".py",
   "mimetype": "text/x-python",
   "name": "python",
   "nbconvert_exporter": "python",
   "pygments_lexer": "ipython3",
   "version": "3.11.4"
  }
 },
 "nbformat": 4,
 "nbformat_minor": 5
}
