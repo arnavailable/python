{
 "cells": [
  {
   "cell_type": "markdown",
   "id": "98b6cbdb-8957-43ed-a59d-94c1e7a8e8c3",
   "metadata": {
    "tags": []
   },
   "source": [
    "<span style=\"color:green\"> I did all the required exercises and fully understand them.</span>"
   ]
  },
  {
   "cell_type": "markdown",
   "id": "df0e0964-eb42-49a5-aadd-0cd8edc652f2",
   "metadata": {},
   "source": [
    "Exercise | Comments\n",
    "---|---\n",
    "4.9|Done\n",
    "5.6|Done\n",
    "5.7|Done\n",
    "5.14|Done"
   ]
  },
  {
   "cell_type": "markdown",
   "id": "db5692b5-d231-4045-bc66-16116876a937",
   "metadata": {},
   "source": [
    "# <u>Lecture 3 Lab Exercises</u>"
   ]
  },
  {
   "cell_type": "markdown",
   "id": "69e0dc1a-6f2d-490e-9554-9eb9c7e53630",
   "metadata": {},
   "source": [
    "## _**4.9** Data Science: Temperature Conversion_"
   ]
  },
  {
   "cell_type": "code",
   "execution_count": 1,
   "id": "d07ea0b3-0f3c-4f1f-a194-c14b19807ed8",
   "metadata": {
    "tags": []
   },
   "outputs": [],
   "source": [
    "def fahrenheit(celsius):\n",
    "    \n",
    "    ''' Function returns the fahrenheit equivalent of celsius temperature. '''\n",
    "    \n",
    "    return (celsius * (9 / 5)) + 32"
   ]
  },
  {
   "cell_type": "code",
   "execution_count": 2,
   "id": "54b95dc4-6631-443b-bdc6-b4ea978d103a",
   "metadata": {
    "tags": []
   },
   "outputs": [
    {
     "name": "stdout",
     "output_type": "stream",
     "text": [
      "    0°C   ->    32.0°F\n",
      "    1°C   ->    33.8°F\n",
      "    2°C   ->    35.6°F\n",
      "    3°C   ->    37.4°F\n",
      "    4°C   ->    39.2°F\n",
      "    5°C   ->    41.0°F\n",
      "    6°C   ->    42.8°F\n",
      "    7°C   ->    44.6°F\n",
      "    8°C   ->    46.4°F\n",
      "    9°C   ->    48.2°F\n",
      "   10°C   ->    50.0°F\n",
      "   11°C   ->    51.8°F\n",
      "   12°C   ->    53.6°F\n",
      "   13°C   ->    55.4°F\n",
      "   14°C   ->    57.2°F\n",
      "   15°C   ->    59.0°F\n",
      "   16°C   ->    60.8°F\n",
      "   17°C   ->    62.6°F\n",
      "   18°C   ->    64.4°F\n",
      "   19°C   ->    66.2°F\n",
      "   20°C   ->    68.0°F\n",
      "   21°C   ->    69.8°F\n",
      "   22°C   ->    71.6°F\n",
      "   23°C   ->    73.4°F\n",
      "   24°C   ->    75.2°F\n",
      "   25°C   ->    77.0°F\n",
      "   26°C   ->    78.8°F\n",
      "   27°C   ->    80.6°F\n",
      "   28°C   ->    82.4°F\n",
      "   29°C   ->    84.2°F\n",
      "   30°C   ->    86.0°F\n",
      "   31°C   ->    87.8°F\n",
      "   32°C   ->    89.6°F\n",
      "   33°C   ->    91.4°F\n",
      "   34°C   ->    93.2°F\n",
      "   35°C   ->    95.0°F\n",
      "   36°C   ->    96.8°F\n",
      "   37°C   ->    98.6°F\n",
      "   38°C   ->   100.4°F\n",
      "   39°C   ->   102.2°F\n",
      "   40°C   ->   104.0°F\n",
      "   41°C   ->   105.8°F\n",
      "   42°C   ->   107.6°F\n",
      "   43°C   ->   109.4°F\n",
      "   44°C   ->   111.2°F\n",
      "   45°C   ->   113.0°F\n",
      "   46°C   ->   114.8°F\n",
      "   47°C   ->   116.6°F\n",
      "   48°C   ->   118.4°F\n",
      "   49°C   ->   120.2°F\n",
      "   50°C   ->   122.0°F\n",
      "   51°C   ->   123.8°F\n",
      "   52°C   ->   125.6°F\n",
      "   53°C   ->   127.4°F\n",
      "   54°C   ->   129.2°F\n",
      "   55°C   ->   131.0°F\n",
      "   56°C   ->   132.8°F\n",
      "   57°C   ->   134.6°F\n",
      "   58°C   ->   136.4°F\n",
      "   59°C   ->   138.2°F\n",
      "   60°C   ->   140.0°F\n",
      "   61°C   ->   141.8°F\n",
      "   62°C   ->   143.6°F\n",
      "   63°C   ->   145.4°F\n",
      "   64°C   ->   147.2°F\n",
      "   65°C   ->   149.0°F\n",
      "   66°C   ->   150.8°F\n",
      "   67°C   ->   152.6°F\n",
      "   68°C   ->   154.4°F\n",
      "   69°C   ->   156.2°F\n",
      "   70°C   ->   158.0°F\n",
      "   71°C   ->   159.8°F\n",
      "   72°C   ->   161.6°F\n",
      "   73°C   ->   163.4°F\n",
      "   74°C   ->   165.2°F\n",
      "   75°C   ->   167.0°F\n",
      "   76°C   ->   168.8°F\n",
      "   77°C   ->   170.6°F\n",
      "   78°C   ->   172.4°F\n",
      "   79°C   ->   174.2°F\n",
      "   80°C   ->   176.0°F\n",
      "   81°C   ->   177.8°F\n",
      "   82°C   ->   179.6°F\n",
      "   83°C   ->   181.4°F\n",
      "   84°C   ->   183.2°F\n",
      "   85°C   ->   185.0°F\n",
      "   86°C   ->   186.8°F\n",
      "   87°C   ->   188.6°F\n",
      "   88°C   ->   190.4°F\n",
      "   89°C   ->   192.2°F\n",
      "   90°C   ->   194.0°F\n",
      "   91°C   ->   195.8°F\n",
      "   92°C   ->   197.6°F\n",
      "   93°C   ->   199.4°F\n",
      "   94°C   ->   201.2°F\n",
      "   95°C   ->   203.0°F\n",
      "   96°C   ->   204.8°F\n",
      "   97°C   ->   206.6°F\n",
      "   98°C   ->   208.4°F\n",
      "   99°C   ->   210.2°F\n",
      "  100°C   ->   212.0°F\n"
     ]
    }
   ],
   "source": [
    "for celsius in range(0, 101):\n",
    "    \n",
    "    print(f'{celsius:>5}{\"°C\"}{\"->\":>5}{fahrenheit(celsius):>8.1f}{\"°F\"}')"
   ]
  },
  {
   "cell_type": "markdown",
   "id": "e73c000a-7cdc-4e9f-9ebb-8f1500916c4d",
   "metadata": {
    "tags": []
   },
   "source": [
    "I have defined a function **fahrenheit** which converts the input celsius temperature to its corresponding fahrenheit temperature. Then, I implemented a **for** loop from 0 to 100 to iterate over 0-100°C and print out the conversions using a **f-string**."
   ]
  },
  {
   "cell_type": "markdown",
   "id": "9633c485-630f-439e-b7b9-92a70e429e45",
   "metadata": {},
   "source": [
    "## _**5.6** Functions Returning Tuples_"
   ]
  },
  {
   "cell_type": "code",
   "execution_count": 3,
   "id": "89e31fa3-1619-436e-a17b-743ea1901880",
   "metadata": {
    "tags": []
   },
   "outputs": [],
   "source": [
    "def rotate(argument1, argument2, argument3):\n",
    "    \n",
    "    ''' Function returns a tuple in which \n",
    "    the first argument is at index 1, \n",
    "    the second argumentis at index 2 and \n",
    "    the third argument is at index 0. '''\n",
    "    \n",
    "    return (argument3, argument1, argument2)"
   ]
  },
  {
   "cell_type": "code",
   "execution_count": 4,
   "id": "b8bc2675-bc71-4da9-b315-2c7152133ad8",
   "metadata": {
    "tags": []
   },
   "outputs": [
    {
     "data": {
      "text/plain": [
       "('Doug', 22, 1984)"
      ]
     },
     "execution_count": 4,
     "metadata": {},
     "output_type": "execute_result"
    }
   ],
   "source": [
    "a = 'Doug'\n",
    "b = 22\n",
    "c = 1984\n",
    "a, b, c"
   ]
  },
  {
   "cell_type": "code",
   "execution_count": 5,
   "id": "18ab09aa-7664-402e-becc-47c5ff21e960",
   "metadata": {
    "tags": []
   },
   "outputs": [
    {
     "data": {
      "text/plain": [
       "(1984, 'Doug', 22)"
      ]
     },
     "execution_count": 5,
     "metadata": {},
     "output_type": "execute_result"
    }
   ],
   "source": [
    "a, b, c = rotate(a, b, c)\n",
    "a, b, c"
   ]
  },
  {
   "cell_type": "code",
   "execution_count": 6,
   "id": "4e43fafb-083d-451c-b4cf-053ce410dcfe",
   "metadata": {
    "tags": []
   },
   "outputs": [
    {
     "data": {
      "text/plain": [
       "(22, 1984, 'Doug')"
      ]
     },
     "execution_count": 6,
     "metadata": {},
     "output_type": "execute_result"
    }
   ],
   "source": [
    "a, b, c = rotate(a, b, c)\n",
    "a, b, c"
   ]
  },
  {
   "cell_type": "code",
   "execution_count": 7,
   "id": "d35102fd-0ee7-40e5-b753-77df4aea0c3a",
   "metadata": {
    "tags": []
   },
   "outputs": [
    {
     "data": {
      "text/plain": [
       "('Doug', 22, 1984)"
      ]
     },
     "execution_count": 7,
     "metadata": {},
     "output_type": "execute_result"
    }
   ],
   "source": [
    "a, b, c = rotate(a, b, c)\n",
    "a, b, c"
   ]
  },
  {
   "cell_type": "markdown",
   "id": "4fb409c5-01bc-4d8a-9d0a-efca5988e2ef",
   "metadata": {},
   "source": [
    "For this exercise, I defined a function **rotate** which basically shuffles the input arguments into a tuple. As described in the prompt, I declared and assigned three variables. Then I called the function rotate thrice and unpacked its result into a, b and c."
   ]
  },
  {
   "cell_type": "markdown",
   "id": "704e9ba8-3b5a-4daf-8585-a7157ca7f799",
   "metadata": {},
   "source": [
    "## _**5.7** Data Science: Duplicate Elimination_"
   ]
  },
  {
   "cell_type": "code",
   "execution_count": 8,
   "id": "9001b4b6-cbba-4ee8-ac34-f96b5a310de7",
   "metadata": {
    "tags": []
   },
   "outputs": [],
   "source": [
    "def duplicate_elimination(input_list, ascending = True):\n",
    "    \n",
    "    ''' Function receives a list and returns the list \n",
    "    containing only the unique values in sorted order. '''\n",
    "    \n",
    "    output_list = []\n",
    "    \n",
    "    input_list.sort()\n",
    "    for item in input_list:\n",
    "        if item not in output_list:\n",
    "            output_list.append(item)\n",
    "    \n",
    "    return output_list if ascending == True else output_list[:: -1]"
   ]
  },
  {
   "cell_type": "code",
   "execution_count": 9,
   "id": "3a1a066c-c95a-4127-843c-9f7b2cc8425d",
   "metadata": {
    "tags": []
   },
   "outputs": [
    {
     "data": {
      "text/plain": [
       "[100, 9, 5, 3, 2, 1]"
      ]
     },
     "execution_count": 9,
     "metadata": {},
     "output_type": "execute_result"
    }
   ],
   "source": [
    "input_list = [2, 3, 5, 100, 9, 2, 1, 1]\n",
    "duplicate_elimination(input_list, ascending = False)"
   ]
  },
  {
   "cell_type": "code",
   "execution_count": 10,
   "id": "ecb8c480-f356-45e6-bfe6-9cba650602f6",
   "metadata": {
    "tags": []
   },
   "outputs": [
    {
     "data": {
      "text/plain": [
       "[1, 2, 3, 5, 9, 100]"
      ]
     },
     "execution_count": 10,
     "metadata": {},
     "output_type": "execute_result"
    }
   ],
   "source": [
    "input_list = [2, 3, 5, 100, 9, 2, 1, 1]\n",
    "duplicate_elimination(input_list)"
   ]
  },
  {
   "cell_type": "code",
   "execution_count": 11,
   "id": "10cb4af3-b6ab-4eed-bde6-1e809b14dd79",
   "metadata": {
    "tags": []
   },
   "outputs": [
    {
     "data": {
      "text/plain": [
       "[-3, -1, 0, 1, 2, 3, 4, 5, 6]"
      ]
     },
     "execution_count": 11,
     "metadata": {},
     "output_type": "execute_result"
    }
   ],
   "source": [
    "input_list = [1, 1, 2, 2, 1, 1, 3, 4, 0, -1, 2, 4, 5, 4, 6, 6, 6, -3]\n",
    "duplicate_elimination(input_list)"
   ]
  },
  {
   "cell_type": "markdown",
   "id": "9ab45e0c-3bc9-47ea-8ff7-afe1ea6a60ea",
   "metadata": {},
   "source": [
    "I have implemented a function **duplicate_elimination** which removes duplicates from an **input_list** and returns a sorted **output_list**.\n",
    "\n",
    "The function defines an empty **output_list**. Firstly, it sorts **input_list**. Then it checks consecutively if an **item** from **input_list** is already present in the **output_list**. If present, it skips that **item**. If absent, it adds that **item** to **output_list**. Finally, **output_list** or reverse of **output_list** is returned based on ascending or descending order as defined by user.\n",
    "\n",
    "I added advanced functionality by defining the argument **ascending = True**. This allows the user to define both ascending and descending orders."
   ]
  },
  {
   "cell_type": "markdown",
   "id": "d6958329-c18d-44e5-a2fd-21a2705bbb0a",
   "metadata": {},
   "source": [
    "## _**5.14** Is a Sequence Sorted?_"
   ]
  },
  {
   "cell_type": "code",
   "execution_count": 12,
   "id": "edbd378d-c792-438a-a560-96792ce7e3e0",
   "metadata": {
    "tags": []
   },
   "outputs": [],
   "source": [
    "def is_ordered(sequence, ascending = True):\n",
    "    \n",
    "    ''' Function receives a sequence and returns \n",
    "    True if the elements are in sorted order. '''\n",
    "    \n",
    "    order = True\n",
    "    \n",
    "    for index in range(len(sequence) - 1):\n",
    "        if (sequence[index+1] < sequence[index] and ascending == True) \\\n",
    "        or (sequence[index+1] > sequence[index] and ascending == False):\n",
    "            order = False\n",
    "            \n",
    "    return order"
   ]
  },
  {
   "cell_type": "code",
   "execution_count": 13,
   "id": "87cc0cc3-c7ea-43ca-9e2a-5f608b3e139c",
   "metadata": {
    "tags": []
   },
   "outputs": [
    {
     "data": {
      "text/plain": [
       "True"
      ]
     },
     "execution_count": 13,
     "metadata": {},
     "output_type": "execute_result"
    }
   ],
   "source": [
    "sequence = 'abcdefg'\n",
    "is_ordered(sequence)"
   ]
  },
  {
   "cell_type": "code",
   "execution_count": 14,
   "id": "2fdc1969-f531-45ed-82db-5a8cb0299c01",
   "metadata": {
    "tags": []
   },
   "outputs": [
    {
     "data": {
      "text/plain": [
       "False"
      ]
     },
     "execution_count": 14,
     "metadata": {},
     "output_type": "execute_result"
    }
   ],
   "source": [
    "sequence = 'hello'\n",
    "is_ordered(sequence)"
   ]
  },
  {
   "cell_type": "code",
   "execution_count": 15,
   "id": "aa913308-584f-4860-90d0-e727dddd8de6",
   "metadata": {
    "tags": []
   },
   "outputs": [
    {
     "data": {
      "text/plain": [
       "True"
      ]
     },
     "execution_count": 15,
     "metadata": {},
     "output_type": "execute_result"
    }
   ],
   "source": [
    "sequence = [1, 2, 3, 4, 6]\n",
    "is_ordered(sequence)"
   ]
  },
  {
   "cell_type": "code",
   "execution_count": 16,
   "id": "1016d9b0-c581-4359-b8b6-6bc9ed6ce90e",
   "metadata": {
    "tags": []
   },
   "outputs": [
    {
     "data": {
      "text/plain": [
       "True"
      ]
     },
     "execution_count": 16,
     "metadata": {},
     "output_type": "execute_result"
    }
   ],
   "source": [
    "sequence = [6, 3, 3, 2, 1]\n",
    "is_ordered(sequence, ascending = False)"
   ]
  },
  {
   "cell_type": "code",
   "execution_count": 17,
   "id": "5ca3ba10-5f7a-4092-8bce-3eb1711f6fe2",
   "metadata": {
    "tags": []
   },
   "outputs": [
    {
     "data": {
      "text/plain": [
       "False"
      ]
     },
     "execution_count": 17,
     "metadata": {},
     "output_type": "execute_result"
    }
   ],
   "source": [
    "sequence = [1, 1, 2, 2, 1, 1, 3, 4, 0, -1, 2, 4, 5, 4, 6, 6, 6, -3]\n",
    "is_ordered(sequence, ascending = False)"
   ]
  },
  {
   "cell_type": "code",
   "execution_count": 18,
   "id": "6191b010-136c-42e7-b3b4-9735eda2ff0b",
   "metadata": {
    "tags": []
   },
   "outputs": [
    {
     "data": {
      "text/plain": [
       "False"
      ]
     },
     "execution_count": 18,
     "metadata": {},
     "output_type": "execute_result"
    }
   ],
   "source": [
    "sequence = [1, 1, 2, 2, 1, 1, 3, 4, 0, -1, 2, 4, 5, 4, 6, 6, 6, -3]\n",
    "is_ordered(sequence)"
   ]
  },
  {
   "cell_type": "code",
   "execution_count": 19,
   "id": "95d1dbf9-94a2-4812-a55e-eea0bd8d5920",
   "metadata": {
    "tags": []
   },
   "outputs": [
    {
     "data": {
      "text/plain": [
       "True"
      ]
     },
     "execution_count": 19,
     "metadata": {},
     "output_type": "execute_result"
    }
   ],
   "source": [
    "sequence = [1, 1, 2, 2, 3, 4, 4, 5, 6, 6, 6]\n",
    "is_ordered(sequence)"
   ]
  },
  {
   "cell_type": "markdown",
   "id": "5136dd93-ab34-430c-aa54-157c952b91f1",
   "metadata": {},
   "source": [
    "I have implemented a function **is_ordered()** to check if an input sequence is ordered or not.\n",
    "\n",
    "I added advanced functionality by defining the argument **ascending = True**. This allows the user to check both ascending and descending orders.\n",
    "\n",
    "I used a **order** variable set to True by default. I iterated through the sequence using a for loop and under conditions where the order is broken, I set the **order** variable to False. Finally, I ouputted the **order** variable.\n",
    "\n",
    "I made sure that conditions more likely to be False come first in an **and-if statement** and conditions more likely to be True come first in an **or-if statement**"
   ]
  }
 ],
 "metadata": {
  "kernelspec": {
   "display_name": "Python 3 (ipykernel)",
   "language": "python",
   "name": "python3"
  },
  "language_info": {
   "codemirror_mode": {
    "name": "ipython",
    "version": 3
   },
   "file_extension": ".py",
   "mimetype": "text/x-python",
   "name": "python",
   "nbconvert_exporter": "python",
   "pygments_lexer": "ipython3",
   "version": "3.11.5"
  }
 },
 "nbformat": 4,
 "nbformat_minor": 5
}
