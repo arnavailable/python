{
 "cells": [
  {
   "cell_type": "markdown",
   "metadata": {
    "slideshow": {
     "slide_type": "slide"
    }
   },
   "source": [
    "## UCLA MSBA 2023 Python Workshop\n",
    "\n",
    "**Paul Deitel, CEO,  \n",
    "Deitel & Associates, Inc.**  \n",
    "* CCLE Course Link: https://bruinlearn.ucla.edu/courses/167820\n",
    "* **QUESTIONS: <paul@deitel.com>**\n",
    "* https://deitel.com  "
   ]
  },
  {
   "cell_type": "markdown",
   "metadata": {},
   "source": [
    "<hr>"
   ]
  },
  {
   "cell_type": "markdown",
   "metadata": {},
   "source": [
    "![2020 Python Workshop Course Architecture Diagram](./architecture.png)"
   ]
  },
  {
   "cell_type": "markdown",
   "metadata": {},
   "source": [
    "<hr>"
   ]
  },
  {
   "cell_type": "markdown",
   "metadata": {},
   "source": [
    "# Week 3\n",
    "## Zoom Lecture\n",
    "* Q&A for Chapter 3 exercises.\n",
    "* Chapter 4.\n",
    "* Chapter 5.\n",
    "\n",
    "## Reading/Video Assignments\n",
    "* **Textbook:** Chapter 4, Functions, and Chapter 5, Lists and Tuples\n",
    "* **Videos:** Lesson 4, Functions  \n",
    "https://deitel.com/python-livelessons-04-overview\n",
    "* **Videos:** Lesson 5, Lists and Tuples  \n",
    "https://deitel.com/python-livelessons-05-overview\n",
    "\n",
    "## Chapter 4 and 5 Multiple-Choice Quizzes\n",
    "Two quizzes this week.\n",
    "* **Available:** Today. \n",
    "    * Chapter 4 quiz covers Sections 4.2-4.5 4.9-4.12, 4.14, 4.17\n",
    "    * Chapter 5 quiz covers Sections 5.2-5.6, 5.8-10, 5.12 and 5.14\n",
    "* **Due by:** Tuesday, October 10 at Midnight.\n",
    "\n",
    "## Required Chapter 4 and 5 Hands-On Lab Exercises\n",
    "* **Due by:** Monday, October 9 10AM.\n",
    "* See the syllabus for details. "
   ]
  },
  {
   "cell_type": "markdown",
   "metadata": {},
   "source": [
    "<hr>"
   ]
  },
  {
   "cell_type": "markdown",
   "metadata": {},
   "source": [
    "# Chapter 3 Exercise Review"
   ]
  },
  {
   "cell_type": "markdown",
   "metadata": {},
   "source": [
    "## Overall Comments\n",
    "* **Having trouble?**\n",
    "    * **Please e-mail me any time (paul@deitel.com).**\n",
    "    * If you don't ask questions, I can't help.\n",
    "    * If for some reason, you're uncomfortable asking me, at least reach out to an MSBA friend.\n",
    "* **`while`** vs. **`for`**\n",
    "    * Use `while` when you don't know in advance how many times to iterate\n",
    "    * Use `for` when you know how many times to iterate\n",
    "    * **For those of you with less programming experience**: The more you code, the better you'll recognize patterns in code that come up frequently. This will help you recognize what language elements you need.\n",
    "* **ATTENTION TO DETAIL.** \n",
    "    * 3.17 required a specific `print` statement that was provided in the exercise description. If you used it you would have been forced to implement nested loops, which was the purpose of this exercise (and, in fact, its title). \n",
    "    * 3.31 asked specifically about **mean**, **median** and **mode** for categorical data, so that is what your answer should have discuss. "
   ]
  },
  {
   "cell_type": "markdown",
   "metadata": {},
   "source": [
    "### Write Clearly\n",
    "* Lots of free tools out there to help you with spelling and grammar.\n",
    "* Try to describe your code/results like you'll be asked to do in data-science studies. \n",
    "* **Clarity is important.** Others have to fully understand what you write. \n",
    "* Punctuation is part of clarity.\n",
    "    * \"Let's eat grandma.\"\n",
    "    * \"Let's eat, grandma.\"\n",
    "    * Commas Save Lives!\n",
    "* **Precision is important.** You'll be asked to analyze data and people will make critical business decisions based on the information you provide. "
   ]
  },
  {
   "cell_type": "markdown",
   "metadata": {},
   "source": [
    "### Write Your Code for Others to Understand\n",
    "* Study the [Python Style Guide](https://www.python.org/dev/peps/pep-0008/).\n",
    "* Take the time to make your code readable.\n",
    "    * spacing\n",
    "    * variable names\n",
    "    * (as of today) function names\n",
    "* Get used to doing it now; otherwise, you'll be redoing a lot of your work in later courses and in your jobs."
   ]
  },
  {
   "cell_type": "markdown",
   "metadata": {},
   "source": [
    "### Markdown Formatting \n",
    "* Please continue to work on improving your notebook formatting. \n",
    "* Heading structure is crucial for organization and accessibility: #, ##, ###.\n",
    "    * See the Jupyter **Table of Contents** view at the left of your screen\n",
    "* **Explanations should not be headings**, just plain paragraphs. \n",
    "    * Blank lines separate paragraphs in markdown.\n",
    "* **Code in paragraphs**: Use back tick marks \\` to get computer font.\n",
    "    * `x = 7`\n",
    "    * `my_variable_name`\n",
    "* Try ** for **bold** and _ for _italic_ if you need emphasis for key terms/concepts. "
   ]
  },
  {
   "cell_type": "markdown",
   "metadata": {},
   "source": [
    "<hr>"
   ]
  },
  {
   "cell_type": "markdown",
   "metadata": {},
   "source": [
    "# Code Style\n",
    "* Use **more space for readability**—it's free.\n",
    "    * In general, put a blank line above and below every control statement. \n",
    "    * Spaces on either side of a binary operator like `+`, `*`, etc.\n",
    "    * Place a space after every comma in a function's argument list.\n",
    "    * Blank line above a full-line comment for readability.\n",
    "* **Avoid abbreviations**—e.g., use \"column\" rather than \"col.\" \n",
    "    * Code readability and maintainability is more important than typying quickly. \n",
    "    * With tab autocompletion, Jupyter and IDEs will help you write code quickly.\n",
    "* For keyword arguments, they recommend no spaces around the =."
   ]
  },
  {
   "cell_type": "markdown",
   "metadata": {},
   "source": [
    "<hr>"
   ]
  },
  {
   "cell_type": "markdown",
   "metadata": {},
   "source": [
    "# 3.10 Investment Return"
   ]
  },
  {
   "cell_type": "code",
   "execution_count": 7,
   "metadata": {},
   "outputs": [
    {
     "name": "stdout",
     "output_type": "stream",
     "text": [
      "Year  Amount on Deposit\n",
      "   1            1070.00\n",
      "   2            1144.90\n",
      "   3            1225.04\n",
      "   4            1310.80\n",
      "   5            1402.55\n",
      "   6            1500.73\n",
      "   7            1605.78\n",
      "   8            1718.19\n",
      "   9            1838.46\n",
      "  10            1967.15\n",
      "  11            2104.85\n",
      "  12            2252.19\n",
      "  13            2409.85\n",
      "  14            2578.53\n",
      "  15            2759.03\n",
      "  16            2952.16\n",
      "  17            3158.82\n",
      "  18            3379.93\n",
      "  19            3616.53\n",
      "  20            3869.68\n",
      "  21            4140.56\n",
      "  22            4430.40\n",
      "  23            4740.53\n",
      "  24            5072.37\n",
      "  25            5427.43\n",
      "  26            5807.35\n",
      "  27            6213.87\n",
      "  28            6648.84\n",
      "  29            7114.26\n",
      "  30            7612.26\n"
     ]
    }
   ],
   "source": [
    "# Exercise 3.10\n",
    "from decimal import Decimal \n",
    "\n",
    "principal = Decimal(\"1000.00\")\n",
    "rate = Decimal(\"0.07\")\n",
    "\n",
    "print(f'Year{\"Amount on Deposit\":>19}')\n",
    "for year in range(1, 31):\n",
    "    year_end_amount = principal * (1 + rate) ** year\n",
    "    print(f'{year:>4}{year_end_amount:>19.2f}')"
   ]
  },
  {
   "cell_type": "markdown",
   "metadata": {},
   "source": [
    "# 3.17 Nested Loops\n",
    "Print four triangles of asterisks, one below the other."
   ]
  },
  {
   "cell_type": "markdown",
   "metadata": {},
   "source": [
    "## First Triangle\n",
    "* Outer loop controls the row number from `1` to `10`.\n",
    "* Nested loop controls the columns, printing the same number of asterisks as the row number.\n",
    "* `print()` displays a newline."
   ]
  },
  {
   "cell_type": "code",
   "execution_count": 8,
   "metadata": {},
   "outputs": [
    {
     "name": "stdout",
     "output_type": "stream",
     "text": [
      "*\n",
      "**\n",
      "***\n",
      "****\n",
      "*****\n",
      "******\n",
      "*******\n",
      "********\n",
      "*********\n",
      "**********\n"
     ]
    }
   ],
   "source": [
    "for row in range(1, 11):\n",
    "    # asterisks\n",
    "    for asterisk in range(1, row + 1):\n",
    "        print('*', end='')\n",
    "        \n",
    "    print() # prints just a newline"
   ]
  },
  {
   "cell_type": "markdown",
   "metadata": {},
   "source": [
    "## Second triangle"
   ]
  },
  {
   "cell_type": "code",
   "execution_count": 9,
   "metadata": {},
   "outputs": [
    {
     "name": "stdout",
     "output_type": "stream",
     "text": [
      "**********\n",
      "*********\n",
      "********\n",
      "*******\n",
      "******\n",
      "*****\n",
      "****\n",
      "***\n",
      "**\n",
      "*\n",
      "\n"
     ]
    }
   ],
   "source": [
    "for row in range(10, 0, -1):\n",
    "    # asterisks\n",
    "    for asterisk in range(1, row + 1):\n",
    "        print('*', end='')\n",
    "        \n",
    "    print()"
   ]
  },
  {
   "cell_type": "markdown",
   "metadata": {},
   "source": [
    "## Third triangle"
   ]
  },
  {
   "cell_type": "code",
   "execution_count": 10,
   "metadata": {
    "scrolled": true
   },
   "outputs": [
    {
     "name": "stdout",
     "output_type": "stream",
     "text": [
      "**********\n",
      " *********\n",
      "  ********\n",
      "   *******\n",
      "    ******\n",
      "     *****\n",
      "      ****\n",
      "       ***\n",
      "        **\n",
      "         *\n",
      "\n"
     ]
    }
   ],
   "source": [
    "for row in range(10, 0, -1):\n",
    "    # spaces\n",
    "    for space in range(10, row, -1):\n",
    "        print(' ', end='')\n",
    "        \n",
    "    # asterisks\n",
    "    for asterisk in range(1, row + 1):\n",
    "        print('*', end='')\n",
    "        \n",
    "    print()"
   ]
  },
  {
   "cell_type": "markdown",
   "metadata": {},
   "source": [
    "## Fourth triangle"
   ]
  },
  {
   "cell_type": "code",
   "execution_count": 11,
   "metadata": {},
   "outputs": [
    {
     "name": "stdout",
     "output_type": "stream",
     "text": [
      "         *\n",
      "        **\n",
      "       ***\n",
      "      ****\n",
      "     *****\n",
      "    ******\n",
      "   *******\n",
      "  ********\n",
      " *********\n",
      "**********\n",
      "\n"
     ]
    }
   ],
   "source": [
    "for row in range(10, 0, -1):\n",
    "    # spaces\n",
    "    for space in range(1, row):\n",
    "        print(' ', end='')\n",
    "        \n",
    "    # asterisks\n",
    "    for asterisk in range(10, row - 1, -1):\n",
    "        print('*', end='')\n",
    "        \n",
    "    print()"
   ]
  },
  {
   "cell_type": "markdown",
   "metadata": {},
   "source": [
    "# 3.26 Data Science Research: Anscombe’s Quartet\n",
    "The main point to get from this exercise is that statistics can be deceiving, so visualizing the data is important for a more complete understanding."
   ]
  },
  {
   "cell_type": "markdown",
   "metadata": {},
   "source": [
    "# 3.31 Data Science: Categorical Data \n",
    "Of the three stats mentioned, only **mode** applies to the sample categorical data. "
   ]
  },
  {
   "cell_type": "markdown",
   "metadata": {},
   "source": [
    "---"
   ]
  },
  {
   "cell_type": "markdown",
   "metadata": {},
   "source": [
    "# Jupyter Shortcuts\n",
    "## The following assume a cell is selected by clicking its left margin\n",
    "* `c` to copy a cell\n",
    "* `v` to paste a cell below the currently selected cell\n",
    "* `a` to insert cell above the currently selected cell\n",
    "* `b` to insert cell below the currently selected cell\n",
    "* `dd` to delete the currently selected cell\n",
    "* `m` to convert the currently selected cell to Markdown\n",
    "* _Shift_ + `m` to merge a range of selected cells\n",
    "\n",
    "## Splitting cells\n",
    "* _Ctrl_ + _Shift_ + `-` to split a cell at the cursor position"
   ]
  },
  {
   "cell_type": "markdown",
   "metadata": {},
   "source": [
    "<hr>"
   ]
  },
  {
   "cell_type": "markdown",
   "metadata": {},
   "source": [
    "# Jupyter Markdown\n",
    "# HEADINGS\n",
    "# H1 head\n",
    "## H2 head\n",
    "### H3 head (probably won't need past here for most notebooks)\n",
    "#### H4 head\n",
    "##### H5 head\n",
    "###### H6 head"
   ]
  },
  {
   "cell_type": "markdown",
   "metadata": {},
   "source": [
    "---"
   ]
  },
  {
   "cell_type": "markdown",
   "metadata": {},
   "source": [
    "# Formatting\n",
    "The notes below are in a bullet list, which uses hanging indents\n",
    "\n",
    "* force a line break with two spaces at the end of the line  \n",
    "(note this line is indented to the same level as the prior line\n",
    "* Paragraphs are simply separated by a blank line\n",
    "* **Bold** text\n",
    "* _Italic_ text\n",
    "* `code` font in the middle of a paragraph\n",
    "* ~~lineout~~\n",
    "* [Custom hyperlink text (to deitel.com)](https://deitel.com)\n",
    "* https://python.org (URLs are autolinked)\n",
    "* The following is an indented block of text\n",
    "> Block quote\n",
    "> * anything can appear in a block quote\n",
    "> > Even another block quote\n",
    "* Horizontal line is at least three dashes\n",
    "---\n",
    "Numbered lists have hanging indents\n",
    "1. first  \n",
    "2. second \n",
    "    1. Note that this becomes A\n",
    "    2. Note that this becomes B\n",
    "        1. Note that this becomes a\n",
    "        2. Note that this becomes b\n",
    "            1. Note that this becomes i\n",
    "            2. Note that this becomes ii\n",
    "3. Nested numbered or bulleted lists are designated by tabs at the beginning of the line"
   ]
  },
  {
   "cell_type": "markdown",
   "metadata": {},
   "source": [
    "---"
   ]
  },
  {
   "cell_type": "markdown",
   "metadata": {},
   "source": [
    "# Code Blocks\n",
    "* Three back ticks (\\`) on a line by themselves, followed by code, followed by three back ticks (\\`) on a line by themselves\n",
    "* Jupyter has built in code syntax coloring for many languages—kernel dependent\n",
    "* Plain code\n",
    "\n",
    "```\n",
    "if number2 < minimum:\n",
    "    minimum = number2\n",
    "\n",
    "print('Minimum value is', minimum)\n",
    "\n",
    "```\n",
    "\n",
    "* Code with syntax coloring\n",
    "\n",
    "```python\n",
    "if number2 < minimum:\n",
    "    minimum = number2\n",
    "\n",
    "print('Minimum value is', minimum)\n",
    "```\n",
    "\n",
    "* You **do not need to do this** for code cells—they're code font and syntax colored automatically "
   ]
  },
  {
   "cell_type": "markdown",
   "metadata": {},
   "source": [
    "---"
   ]
  },
  {
   "cell_type": "markdown",
   "metadata": {},
   "source": [
    "# Formulas \n",
    "* $\\LaTeX$\n",
    "* Inline: $y = m_1 x_1 + m_2 x_2 + ... + m_n x_n + b$\n",
    "* Standalone: $$y = m_1 x_1 + m_2 x_2 + ... + m_n x_n + b$$\n",
    "\n",
    "> Formula Resources\n",
    "> * https://en.wikibooks.org/wiki/LaTeX/Mathematics\n",
    "> * https://www.macinchem.org/reviews/LaTeXinJupyter.php"
   ]
  },
  {
   "cell_type": "markdown",
   "metadata": {},
   "source": [
    "---"
   ]
  },
  {
   "cell_type": "markdown",
   "metadata": {},
   "source": [
    "# Images\n",
    "* You also can use an `<img>` HTML element for finer control.\n",
    "\n",
    "![Deitel Bug Logo](./bug.png \"This is popup tooltip text commonly used by screen readers for accessibility\")"
   ]
  },
  {
   "cell_type": "markdown",
   "metadata": {},
   "source": [
    "---"
   ]
  },
  {
   "cell_type": "markdown",
   "metadata": {},
   "source": [
    "# Horizontal Line Separators\n",
    "* horizontal line separators can be added with at least three dashes on a line by themselves or `<hr/>`\n",
    "\n",
    "---\n",
    "\n",
    "<hr/>\n"
   ]
  },
  {
   "cell_type": "markdown",
   "metadata": {},
   "source": [
    "&copy; Copyright 2020 by Deitel & Associates, Inc. All Rights Reserved. https://deitel.com, paul@deitel.com "
   ]
  }
 ],
 "metadata": {
  "kernelspec": {
   "display_name": "Python 3 (ipykernel)",
   "language": "python",
   "name": "python3"
  },
  "language_info": {
   "codemirror_mode": {
    "name": "ipython",
    "version": 3
   },
   "file_extension": ".py",
   "mimetype": "text/x-python",
   "name": "python",
   "nbconvert_exporter": "python",
   "pygments_lexer": "ipython3",
   "version": "3.11.6"
  }
 },
 "nbformat": 4,
 "nbformat_minor": 4
}
