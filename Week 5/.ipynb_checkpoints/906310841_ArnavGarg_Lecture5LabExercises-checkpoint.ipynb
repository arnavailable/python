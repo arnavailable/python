{
 "cells": [
  {
   "cell_type": "markdown",
   "id": "db5692b5-d231-4045-bc66-16116876a937",
   "metadata": {},
   "source": [
    "# <u>Lecture 5 Lab Exercises</u>"
   ]
  },
  {
   "cell_type": "markdown",
   "id": "98b6cbdb-8957-43ed-a59d-94c1e7a8e8c3",
   "metadata": {
    "tags": []
   },
   "source": [
    "<span style=\"color:green\"> I did all the required exercises and fully understand them.</span>"
   ]
  },
  {
   "cell_type": "markdown",
   "id": "df0e0964-eb42-49a5-aadd-0cd8edc652f2",
   "metadata": {},
   "source": [
    "Exercise | Comments\n",
    "---|---\n",
    "7.23|Done\n",
    "8.3|Done\n",
    "8.8|Done"
   ]
  },
  {
   "cell_type": "markdown",
   "id": "ce550710-2a2c-4577-805b-6ead0fdbefb2",
   "metadata": {},
   "source": [
    "## _**7.23** Data Science: Pandas DataFrames_"
   ]
  },
  {
   "cell_type": "markdown",
   "id": "d671b8fd-be54-4cb2-b3e5-6d7732e78dd8",
   "metadata": {},
   "source": [
    "I was able to perform each part as decribed in the exercises using the Pandas library. I feel comfortable creating, slicing, dicing, transposing and sorting dataframes."
   ]
  },
  {
   "cell_type": "markdown",
   "id": "80559e5e-afe8-46a2-ab09-38fe51d0e48d",
   "metadata": {},
   "source": [
    "#### (a) Create a DataFrame named temperatures from a dictionary of three temperature readings each for 'Maxine', 'James' and 'Amanda'."
   ]
  },
  {
   "cell_type": "code",
   "execution_count": 1,
   "id": "b5de966e-ef5b-4fad-8eab-b137fbbfdc27",
   "metadata": {
    "tags": []
   },
   "outputs": [],
   "source": [
    "import pandas"
   ]
  },
  {
   "cell_type": "code",
   "execution_count": 2,
   "id": "a7d954f3-7e02-4633-9a6c-dc63a06deb85",
   "metadata": {},
   "outputs": [],
   "source": [
    "temperatures = pandas.DataFrame({\n",
    "    'Maxine': [22,23,24],\n",
    "    'James': [23,27,28],\n",
    "    'Amanda': [20,26,21]\n",
    "})"
   ]
  },
  {
   "cell_type": "code",
   "execution_count": 3,
   "id": "f76dd41e-1b04-40b7-af51-724902ca5a8f",
   "metadata": {
    "tags": []
   },
   "outputs": [
    {
     "data": {
      "text/html": [
       "<div>\n",
       "<style scoped>\n",
       "    .dataframe tbody tr th:only-of-type {\n",
       "        vertical-align: middle;\n",
       "    }\n",
       "\n",
       "    .dataframe tbody tr th {\n",
       "        vertical-align: top;\n",
       "    }\n",
       "\n",
       "    .dataframe thead th {\n",
       "        text-align: right;\n",
       "    }\n",
       "</style>\n",
       "<table border=\"1\" class=\"dataframe\">\n",
       "  <thead>\n",
       "    <tr style=\"text-align: right;\">\n",
       "      <th></th>\n",
       "      <th>Maxine</th>\n",
       "      <th>James</th>\n",
       "      <th>Amanda</th>\n",
       "    </tr>\n",
       "  </thead>\n",
       "  <tbody>\n",
       "    <tr>\n",
       "      <th>0</th>\n",
       "      <td>22</td>\n",
       "      <td>23</td>\n",
       "      <td>20</td>\n",
       "    </tr>\n",
       "    <tr>\n",
       "      <th>1</th>\n",
       "      <td>23</td>\n",
       "      <td>27</td>\n",
       "      <td>26</td>\n",
       "    </tr>\n",
       "    <tr>\n",
       "      <th>2</th>\n",
       "      <td>24</td>\n",
       "      <td>28</td>\n",
       "      <td>21</td>\n",
       "    </tr>\n",
       "  </tbody>\n",
       "</table>\n",
       "</div>"
      ],
      "text/plain": [
       "   Maxine  James  Amanda\n",
       "0      22     23      20\n",
       "1      23     27      26\n",
       "2      24     28      21"
      ]
     },
     "execution_count": 3,
     "metadata": {},
     "output_type": "execute_result"
    }
   ],
   "source": [
    "temperatures"
   ]
  },
  {
   "cell_type": "markdown",
   "id": "b50f2a13-1ff6-4eb6-9e1d-b914676764d7",
   "metadata": {},
   "source": [
    "#### (b) Recreate the DataFrame temperatures in Part (a) with custom indices using the index keyword argument and a list containing 'Morning', 'Afternoon' and 'Evening'."
   ]
  },
  {
   "cell_type": "code",
   "execution_count": 4,
   "id": "cfe7566a-73cb-4587-a2d2-47332ca150f7",
   "metadata": {
    "tags": []
   },
   "outputs": [],
   "source": [
    "temperatures.index = ['Morning', 'Afternoon', 'Evening']"
   ]
  },
  {
   "cell_type": "code",
   "execution_count": 5,
   "id": "f33947eb-58e9-497f-a337-f711123c18b2",
   "metadata": {},
   "outputs": [
    {
     "data": {
      "text/html": [
       "<div>\n",
       "<style scoped>\n",
       "    .dataframe tbody tr th:only-of-type {\n",
       "        vertical-align: middle;\n",
       "    }\n",
       "\n",
       "    .dataframe tbody tr th {\n",
       "        vertical-align: top;\n",
       "    }\n",
       "\n",
       "    .dataframe thead th {\n",
       "        text-align: right;\n",
       "    }\n",
       "</style>\n",
       "<table border=\"1\" class=\"dataframe\">\n",
       "  <thead>\n",
       "    <tr style=\"text-align: right;\">\n",
       "      <th></th>\n",
       "      <th>Maxine</th>\n",
       "      <th>James</th>\n",
       "      <th>Amanda</th>\n",
       "    </tr>\n",
       "  </thead>\n",
       "  <tbody>\n",
       "    <tr>\n",
       "      <th>Morning</th>\n",
       "      <td>22</td>\n",
       "      <td>23</td>\n",
       "      <td>20</td>\n",
       "    </tr>\n",
       "    <tr>\n",
       "      <th>Afternoon</th>\n",
       "      <td>23</td>\n",
       "      <td>27</td>\n",
       "      <td>26</td>\n",
       "    </tr>\n",
       "    <tr>\n",
       "      <th>Evening</th>\n",
       "      <td>24</td>\n",
       "      <td>28</td>\n",
       "      <td>21</td>\n",
       "    </tr>\n",
       "  </tbody>\n",
       "</table>\n",
       "</div>"
      ],
      "text/plain": [
       "           Maxine  James  Amanda\n",
       "Morning        22     23      20\n",
       "Afternoon      23     27      26\n",
       "Evening        24     28      21"
      ]
     },
     "execution_count": 5,
     "metadata": {},
     "output_type": "execute_result"
    }
   ],
   "source": [
    "temperatures"
   ]
  },
  {
   "cell_type": "markdown",
   "id": "597da3b7-a804-4d9f-b3cd-87ccc2123d9b",
   "metadata": {},
   "source": [
    "#### (c) Select from temperatures the column of temperature readings for 'Maxine'."
   ]
  },
  {
   "cell_type": "code",
   "execution_count": 6,
   "id": "89192b07-7d0f-4119-a4aa-fa82bab21208",
   "metadata": {},
   "outputs": [
    {
     "data": {
      "text/plain": [
       "Morning      22\n",
       "Afternoon    23\n",
       "Evening      24\n",
       "Name: Maxine, dtype: int64"
      ]
     },
     "execution_count": 6,
     "metadata": {},
     "output_type": "execute_result"
    }
   ],
   "source": [
    "temperatures['Maxine']"
   ]
  },
  {
   "cell_type": "markdown",
   "id": "6893e2e7-3c8c-409f-b86b-5cc14f86e169",
   "metadata": {},
   "source": [
    "#### (d) Select from temperatures the row of 'Morning' temperature readings."
   ]
  },
  {
   "cell_type": "code",
   "execution_count": 7,
   "id": "af20dbd1-c977-4c0d-9330-3cf342d076b1",
   "metadata": {},
   "outputs": [
    {
     "data": {
      "text/plain": [
       "Maxine    22\n",
       "James     23\n",
       "Amanda    20\n",
       "Name: Morning, dtype: int64"
      ]
     },
     "execution_count": 7,
     "metadata": {},
     "output_type": "execute_result"
    }
   ],
   "source": [
    "temperatures.loc['Morning']"
   ]
  },
  {
   "cell_type": "markdown",
   "id": "a8d40d44-ef84-4bf8-bce0-66742239ef39",
   "metadata": {},
   "source": [
    "#### (e) Select from temperatures the rows for 'Morning' and 'Evening' temperature readings."
   ]
  },
  {
   "cell_type": "code",
   "execution_count": 8,
   "id": "5fe2a33b-b831-400d-950f-b7bbd205d97d",
   "metadata": {},
   "outputs": [
    {
     "data": {
      "text/html": [
       "<div>\n",
       "<style scoped>\n",
       "    .dataframe tbody tr th:only-of-type {\n",
       "        vertical-align: middle;\n",
       "    }\n",
       "\n",
       "    .dataframe tbody tr th {\n",
       "        vertical-align: top;\n",
       "    }\n",
       "\n",
       "    .dataframe thead th {\n",
       "        text-align: right;\n",
       "    }\n",
       "</style>\n",
       "<table border=\"1\" class=\"dataframe\">\n",
       "  <thead>\n",
       "    <tr style=\"text-align: right;\">\n",
       "      <th></th>\n",
       "      <th>Maxine</th>\n",
       "      <th>James</th>\n",
       "      <th>Amanda</th>\n",
       "    </tr>\n",
       "  </thead>\n",
       "  <tbody>\n",
       "    <tr>\n",
       "      <th>Morning</th>\n",
       "      <td>22</td>\n",
       "      <td>23</td>\n",
       "      <td>20</td>\n",
       "    </tr>\n",
       "    <tr>\n",
       "      <th>Evening</th>\n",
       "      <td>24</td>\n",
       "      <td>28</td>\n",
       "      <td>21</td>\n",
       "    </tr>\n",
       "  </tbody>\n",
       "</table>\n",
       "</div>"
      ],
      "text/plain": [
       "         Maxine  James  Amanda\n",
       "Morning      22     23      20\n",
       "Evening      24     28      21"
      ]
     },
     "execution_count": 8,
     "metadata": {},
     "output_type": "execute_result"
    }
   ],
   "source": [
    "temperatures.loc[['Morning', 'Evening']]"
   ]
  },
  {
   "cell_type": "markdown",
   "id": "f2d3df5d-ee16-4e39-9c49-66008c21a046",
   "metadata": {},
   "source": [
    "#### (f) Select from temperatures the columns of temperature readings for 'Amanda' and 'Maxine'."
   ]
  },
  {
   "cell_type": "code",
   "execution_count": 9,
   "id": "e840ccd6-f642-4ae0-9dca-59b0c37bd971",
   "metadata": {},
   "outputs": [
    {
     "data": {
      "text/html": [
       "<div>\n",
       "<style scoped>\n",
       "    .dataframe tbody tr th:only-of-type {\n",
       "        vertical-align: middle;\n",
       "    }\n",
       "\n",
       "    .dataframe tbody tr th {\n",
       "        vertical-align: top;\n",
       "    }\n",
       "\n",
       "    .dataframe thead th {\n",
       "        text-align: right;\n",
       "    }\n",
       "</style>\n",
       "<table border=\"1\" class=\"dataframe\">\n",
       "  <thead>\n",
       "    <tr style=\"text-align: right;\">\n",
       "      <th></th>\n",
       "      <th>Amanda</th>\n",
       "      <th>Maxine</th>\n",
       "    </tr>\n",
       "  </thead>\n",
       "  <tbody>\n",
       "    <tr>\n",
       "      <th>Morning</th>\n",
       "      <td>20</td>\n",
       "      <td>22</td>\n",
       "    </tr>\n",
       "    <tr>\n",
       "      <th>Afternoon</th>\n",
       "      <td>26</td>\n",
       "      <td>23</td>\n",
       "    </tr>\n",
       "    <tr>\n",
       "      <th>Evening</th>\n",
       "      <td>21</td>\n",
       "      <td>24</td>\n",
       "    </tr>\n",
       "  </tbody>\n",
       "</table>\n",
       "</div>"
      ],
      "text/plain": [
       "           Amanda  Maxine\n",
       "Morning        20      22\n",
       "Afternoon      26      23\n",
       "Evening        21      24"
      ]
     },
     "execution_count": 9,
     "metadata": {},
     "output_type": "execute_result"
    }
   ],
   "source": [
    "temperatures[['Amanda', 'Maxine']]"
   ]
  },
  {
   "cell_type": "markdown",
   "id": "e5637dbb-0891-4f9d-92c6-ef37293eba29",
   "metadata": {},
   "source": [
    "#### (g) Select from temperatures the elements for 'Amanda' and 'Maxine' in the 'Morning' and 'Afternoon'."
   ]
  },
  {
   "cell_type": "code",
   "execution_count": 10,
   "id": "eafbccab-b448-4d64-9747-d6c369dff087",
   "metadata": {},
   "outputs": [
    {
     "data": {
      "text/html": [
       "<div>\n",
       "<style scoped>\n",
       "    .dataframe tbody tr th:only-of-type {\n",
       "        vertical-align: middle;\n",
       "    }\n",
       "\n",
       "    .dataframe tbody tr th {\n",
       "        vertical-align: top;\n",
       "    }\n",
       "\n",
       "    .dataframe thead th {\n",
       "        text-align: right;\n",
       "    }\n",
       "</style>\n",
       "<table border=\"1\" class=\"dataframe\">\n",
       "  <thead>\n",
       "    <tr style=\"text-align: right;\">\n",
       "      <th></th>\n",
       "      <th>Amanda</th>\n",
       "      <th>Maxine</th>\n",
       "    </tr>\n",
       "  </thead>\n",
       "  <tbody>\n",
       "    <tr>\n",
       "      <th>Morning</th>\n",
       "      <td>20</td>\n",
       "      <td>22</td>\n",
       "    </tr>\n",
       "    <tr>\n",
       "      <th>Afternoon</th>\n",
       "      <td>26</td>\n",
       "      <td>23</td>\n",
       "    </tr>\n",
       "  </tbody>\n",
       "</table>\n",
       "</div>"
      ],
      "text/plain": [
       "           Amanda  Maxine\n",
       "Morning        20      22\n",
       "Afternoon      26      23"
      ]
     },
     "execution_count": 10,
     "metadata": {},
     "output_type": "execute_result"
    }
   ],
   "source": [
    "temperatures.loc['Morning':'Afternoon',['Amanda', 'Maxine']]"
   ]
  },
  {
   "cell_type": "markdown",
   "id": "86adaf9e-5334-404d-bff3-fe049ffde7c2",
   "metadata": {
    "tags": []
   },
   "source": [
    "#### (h) Use the describe method to produce temperatures’ descriptive statistics."
   ]
  },
  {
   "cell_type": "code",
   "execution_count": 11,
   "id": "2c2860dc-3889-495a-95ba-4da03f5c1c2b",
   "metadata": {},
   "outputs": [
    {
     "data": {
      "text/html": [
       "<div>\n",
       "<style scoped>\n",
       "    .dataframe tbody tr th:only-of-type {\n",
       "        vertical-align: middle;\n",
       "    }\n",
       "\n",
       "    .dataframe tbody tr th {\n",
       "        vertical-align: top;\n",
       "    }\n",
       "\n",
       "    .dataframe thead th {\n",
       "        text-align: right;\n",
       "    }\n",
       "</style>\n",
       "<table border=\"1\" class=\"dataframe\">\n",
       "  <thead>\n",
       "    <tr style=\"text-align: right;\">\n",
       "      <th></th>\n",
       "      <th>Maxine</th>\n",
       "      <th>James</th>\n",
       "      <th>Amanda</th>\n",
       "    </tr>\n",
       "  </thead>\n",
       "  <tbody>\n",
       "    <tr>\n",
       "      <th>count</th>\n",
       "      <td>3.0</td>\n",
       "      <td>3.000000</td>\n",
       "      <td>3.000000</td>\n",
       "    </tr>\n",
       "    <tr>\n",
       "      <th>mean</th>\n",
       "      <td>23.0</td>\n",
       "      <td>26.000000</td>\n",
       "      <td>22.333333</td>\n",
       "    </tr>\n",
       "    <tr>\n",
       "      <th>std</th>\n",
       "      <td>1.0</td>\n",
       "      <td>2.645751</td>\n",
       "      <td>3.214550</td>\n",
       "    </tr>\n",
       "    <tr>\n",
       "      <th>min</th>\n",
       "      <td>22.0</td>\n",
       "      <td>23.000000</td>\n",
       "      <td>20.000000</td>\n",
       "    </tr>\n",
       "    <tr>\n",
       "      <th>25%</th>\n",
       "      <td>22.5</td>\n",
       "      <td>25.000000</td>\n",
       "      <td>20.500000</td>\n",
       "    </tr>\n",
       "    <tr>\n",
       "      <th>50%</th>\n",
       "      <td>23.0</td>\n",
       "      <td>27.000000</td>\n",
       "      <td>21.000000</td>\n",
       "    </tr>\n",
       "    <tr>\n",
       "      <th>75%</th>\n",
       "      <td>23.5</td>\n",
       "      <td>27.500000</td>\n",
       "      <td>23.500000</td>\n",
       "    </tr>\n",
       "    <tr>\n",
       "      <th>max</th>\n",
       "      <td>24.0</td>\n",
       "      <td>28.000000</td>\n",
       "      <td>26.000000</td>\n",
       "    </tr>\n",
       "  </tbody>\n",
       "</table>\n",
       "</div>"
      ],
      "text/plain": [
       "       Maxine      James     Amanda\n",
       "count     3.0   3.000000   3.000000\n",
       "mean     23.0  26.000000  22.333333\n",
       "std       1.0   2.645751   3.214550\n",
       "min      22.0  23.000000  20.000000\n",
       "25%      22.5  25.000000  20.500000\n",
       "50%      23.0  27.000000  21.000000\n",
       "75%      23.5  27.500000  23.500000\n",
       "max      24.0  28.000000  26.000000"
      ]
     },
     "execution_count": 11,
     "metadata": {},
     "output_type": "execute_result"
    }
   ],
   "source": [
    "temperatures.describe()"
   ]
  },
  {
   "cell_type": "markdown",
   "id": "3b28a86e-578f-4e9a-922f-89fa1f6f5b46",
   "metadata": {},
   "source": [
    "#### (i) Transpose temperatures."
   ]
  },
  {
   "cell_type": "code",
   "execution_count": 12,
   "id": "55dbfd89-f7b8-4eaa-9d36-e5446fa0995b",
   "metadata": {},
   "outputs": [
    {
     "data": {
      "text/html": [
       "<div>\n",
       "<style scoped>\n",
       "    .dataframe tbody tr th:only-of-type {\n",
       "        vertical-align: middle;\n",
       "    }\n",
       "\n",
       "    .dataframe tbody tr th {\n",
       "        vertical-align: top;\n",
       "    }\n",
       "\n",
       "    .dataframe thead th {\n",
       "        text-align: right;\n",
       "    }\n",
       "</style>\n",
       "<table border=\"1\" class=\"dataframe\">\n",
       "  <thead>\n",
       "    <tr style=\"text-align: right;\">\n",
       "      <th></th>\n",
       "      <th>Morning</th>\n",
       "      <th>Afternoon</th>\n",
       "      <th>Evening</th>\n",
       "    </tr>\n",
       "  </thead>\n",
       "  <tbody>\n",
       "    <tr>\n",
       "      <th>Maxine</th>\n",
       "      <td>22</td>\n",
       "      <td>23</td>\n",
       "      <td>24</td>\n",
       "    </tr>\n",
       "    <tr>\n",
       "      <th>James</th>\n",
       "      <td>23</td>\n",
       "      <td>27</td>\n",
       "      <td>28</td>\n",
       "    </tr>\n",
       "    <tr>\n",
       "      <th>Amanda</th>\n",
       "      <td>20</td>\n",
       "      <td>26</td>\n",
       "      <td>21</td>\n",
       "    </tr>\n",
       "  </tbody>\n",
       "</table>\n",
       "</div>"
      ],
      "text/plain": [
       "        Morning  Afternoon  Evening\n",
       "Maxine       22         23       24\n",
       "James        23         27       28\n",
       "Amanda       20         26       21"
      ]
     },
     "execution_count": 12,
     "metadata": {},
     "output_type": "execute_result"
    }
   ],
   "source": [
    "temperatures.T"
   ]
  },
  {
   "cell_type": "markdown",
   "id": "7a804fa4-7a63-450f-be6b-33f166ac18d0",
   "metadata": {},
   "source": [
    "#### (j) Sort temperatures so that its column names are in alphabetical order."
   ]
  },
  {
   "cell_type": "code",
   "execution_count": 13,
   "id": "dc05e79c-3fbe-47bd-892e-6589b9e8d681",
   "metadata": {},
   "outputs": [
    {
     "data": {
      "text/html": [
       "<div>\n",
       "<style scoped>\n",
       "    .dataframe tbody tr th:only-of-type {\n",
       "        vertical-align: middle;\n",
       "    }\n",
       "\n",
       "    .dataframe tbody tr th {\n",
       "        vertical-align: top;\n",
       "    }\n",
       "\n",
       "    .dataframe thead th {\n",
       "        text-align: right;\n",
       "    }\n",
       "</style>\n",
       "<table border=\"1\" class=\"dataframe\">\n",
       "  <thead>\n",
       "    <tr style=\"text-align: right;\">\n",
       "      <th></th>\n",
       "      <th>Amanda</th>\n",
       "      <th>James</th>\n",
       "      <th>Maxine</th>\n",
       "    </tr>\n",
       "  </thead>\n",
       "  <tbody>\n",
       "    <tr>\n",
       "      <th>Morning</th>\n",
       "      <td>20</td>\n",
       "      <td>23</td>\n",
       "      <td>22</td>\n",
       "    </tr>\n",
       "    <tr>\n",
       "      <th>Afternoon</th>\n",
       "      <td>26</td>\n",
       "      <td>27</td>\n",
       "      <td>23</td>\n",
       "    </tr>\n",
       "    <tr>\n",
       "      <th>Evening</th>\n",
       "      <td>21</td>\n",
       "      <td>28</td>\n",
       "      <td>24</td>\n",
       "    </tr>\n",
       "  </tbody>\n",
       "</table>\n",
       "</div>"
      ],
      "text/plain": [
       "           Amanda  James  Maxine\n",
       "Morning        20     23      22\n",
       "Afternoon      26     27      23\n",
       "Evening        21     28      24"
      ]
     },
     "execution_count": 13,
     "metadata": {},
     "output_type": "execute_result"
    }
   ],
   "source": [
    "temperatures.sort_index(axis = 1)"
   ]
  },
  {
   "cell_type": "markdown",
   "id": "69e0dc1a-6f2d-490e-9554-9eb9c7e53630",
   "metadata": {},
   "source": [
    "## _**8.3** Pig Latin_"
   ]
  },
  {
   "cell_type": "markdown",
   "id": "4ad97eb1-7784-4599-9395-d3bfdfd299f3",
   "metadata": {
    "tags": []
   },
   "source": [
    "I was able to define a function `pig_latin` which converts an input English string to an output pigLatin string. I have made comments throughout my code to eplain the logic."
   ]
  },
  {
   "cell_type": "code",
   "execution_count": 14,
   "id": "d248756b-85b2-4f02-aec2-3538aa0a5a63",
   "metadata": {
    "tags": []
   },
   "outputs": [],
   "source": [
    "def pig_latin(string):\n",
    "    \n",
    "    \"\"\" The function encodes English-language phrases into a form of coded language called pig Latin.\"\"\"\n",
    "    \n",
    "    #Split the input string into a list of individual words\n",
    "    words = string.split(\" \")\n",
    "    \n",
    "    #Define empty variable output\n",
    "    output = \"\"\n",
    "        \n",
    "    #Iterate through each word\n",
    "    for word in words:\n",
    "        #Convert the word to lowercase\n",
    "        word = word.lower()\n",
    "        \n",
    "        #If word starts with a vowel\n",
    "        if word[0] in ['a', 'e', 'i', 'o', 'u']:\n",
    "            #Add 'ay' in the end\n",
    "            word += 'ay'\n",
    "            \n",
    "        #If word doesn't start with a vowel\n",
    "        else:\n",
    "            #Add first character and 'ay' in the end\n",
    "            word += word[0] + 'ay'\n",
    "            #Drop first character\n",
    "            word = word[1:]\n",
    "        \n",
    "        #Add modfied word and space to output\n",
    "        output += word + \" \"\n",
    "\n",
    "    #Return output except last space\n",
    "    return output[:-1]"
   ]
  },
  {
   "cell_type": "code",
   "execution_count": 15,
   "id": "686e46f5-5fee-493f-b492-f168f6194c54",
   "metadata": {
    "tags": []
   },
   "outputs": [
    {
     "data": {
      "text/plain": [
       "'ellohay ymay amenay isay igpay anday iay amay aay irtyday animalay'"
      ]
     },
     "execution_count": 15,
     "metadata": {},
     "output_type": "execute_result"
    }
   ],
   "source": [
    "string = 'Hello my name is pig and i am a dirty animal'\n",
    "pig_latin(string)"
   ]
  },
  {
   "cell_type": "markdown",
   "id": "704e9ba8-3b5a-4daf-8585-a7157ca7f799",
   "metadata": {},
   "source": [
    "## _**8.8** Converting Integers to Emojis_"
   ]
  },
  {
   "cell_type": "markdown",
   "id": "79497375-12b2-4e55-9c31-200d8e7dfc67",
   "metadata": {},
   "source": [
    "The following code prints the first 10 emojis beginning with a smiley face, using a `loop` and a `f-string`."
   ]
  },
  {
   "cell_type": "code",
   "execution_count": 16,
   "id": "4aeadf0e-2f6e-4191-b807-2dad4d78b546",
   "metadata": {
    "tags": []
   },
   "outputs": [
    {
     "name": "stdout",
     "output_type": "stream",
     "text": [
      "Unicode   Emoji\n",
      "128512      😀\n",
      "128513      😁\n",
      "128514      😂\n",
      "128515      😃\n",
      "128516      😄\n",
      "128517      😅\n",
      "128518      😆\n",
      "128519      😇\n",
      "128520      😈\n",
      "128521      😉\n"
     ]
    }
   ],
   "source": [
    "print(f'{\"Unicode\":>5}{\"Emoji\":>8}')\n",
    "for a in range(10):\n",
    "    code = \"0x1F60\" + str(a)\n",
    "    print(f'{int(code, 16):>5}{int(code, 16):>7c}')"
   ]
  }
 ],
 "metadata": {
  "kernelspec": {
   "display_name": "Python 3 (ipykernel)",
   "language": "python",
   "name": "python3"
  },
  "language_info": {
   "codemirror_mode": {
    "name": "ipython",
    "version": 3
   },
   "file_extension": ".py",
   "mimetype": "text/x-python",
   "name": "python",
   "nbconvert_exporter": "python",
   "pygments_lexer": "ipython3",
   "version": "3.11.5"
  }
 },
 "nbformat": 4,
 "nbformat_minor": 5
}
