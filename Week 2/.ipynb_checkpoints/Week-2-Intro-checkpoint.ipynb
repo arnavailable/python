{
 "cells": [
  {
   "cell_type": "markdown",
   "metadata": {
    "slideshow": {
     "slide_type": "slide"
    }
   },
   "source": [
    "# UCLA MSBA 2023 Python Workshop\n",
    "\n",
    "**Paul Deitel, CEO,  \n",
    "Deitel & Associates, Inc.**  \n",
    "* Course Link: https://bruinlearn.ucla.edu/courses/167820\n",
    "* **QUESTIONS: <paul@deitel.com>**\n",
    "* https://deitel.com  "
   ]
  },
  {
   "cell_type": "markdown",
   "metadata": {},
   "source": [
    "<hr>"
   ]
  },
  {
   "cell_type": "markdown",
   "metadata": {},
   "source": [
    "# Week 2: Python Programming Fundamentals\n",
    "## Zoom Lecture\n",
    "* Q&A for Chapter 2 exercises.\n",
    "* Chapter 3.\n",
    "\n",
    "## Reading/Video Assignments\n",
    "* **Textbook:** Chapter 3, Control Statements and Program Development.\n",
    "* **Videos:** Lesson 3, Control Statements and Program Development  \n",
    "https://deitel.com/python-livelessons-03-overview\n",
    "\n",
    "## Chapter 3 Multiple-Choice Quiz\n",
    "* **Available:** Today. \n",
    "* **Due by:** Tuesday, Midnight Pacific time.\n",
    "\n",
    "## Required Chapter 3 Hands-On Lab Exercises\n",
    "* **Due by:** Monday, October 2 at 10AM Pacific Time.\n",
    "* See the syllabus for details. \n",
    "* Be sure to **read my LabAssist notes**."
   ]
  },
  {
   "cell_type": "markdown",
   "metadata": {},
   "source": [
    "## OPTIONAL (But Recommended) Assignment\n",
    "### Convert Your Résumé to a Jupyter Notebook Using Markdown\n",
    "* Become more familiar with Jupyter. \n",
    "* Practice Jupyter's Markdown formatting. \n",
    "* Your portfolios should look great so they're a benefit to you, not a disadvantage. "
   ]
  },
  {
   "cell_type": "markdown",
   "metadata": {},
   "source": [
    "<hr>"
   ]
  },
  {
   "cell_type": "markdown",
   "metadata": {},
   "source": [
    "# Today's Lecture \n",
    "* Quiz review\n",
    "* Homework review\n",
    "* Tips\n",
    "* Chapter 3"
   ]
  },
  {
   "cell_type": "markdown",
   "metadata": {
    "tags": []
   },
   "source": [
    "## Code Style\n",
    "* Spaces on either side of a binary operator like `+`, `*`, etc.\n",
    "* Variable naming\n",
    "    * Lowercase first letter on variable names. \n",
    "    * Use descriptive names: `principal` vs. `p`, `product` vs. `pro`, etc.\n",
    "* Keep comments and statements to a maximum of 75 to 80 characters or fewer.\n",
    "* Use more space for readability—it's free.\n",
    "* Blank line above a full-line comment for readability.\n",
    "* Blank lines above and below control statements like `if`"
   ]
  },
  {
   "cell_type": "markdown",
   "metadata": {},
   "source": [
    "# Chapter 2 Exercise Review"
   ]
  },
  {
   "cell_type": "markdown",
   "metadata": {},
   "source": [
    "## Comments/Suggestions\n",
    "### Reminder: Markdown Cell with Self-Assessment at the Top of Each Submission\n",
    "* I solved all the exercises and understood everything\n",
    "* I had trouble with exercise X, here is my question...\n",
    "* or any other comments/questions you might have."
   ]
  },
  {
   "cell_type": "markdown",
   "metadata": {},
   "source": [
    "### Submit Your Own Work\n",
    "* There were a number of instances where people made the exact same highly unlikely mistakes. "
   ]
  },
  {
   "cell_type": "markdown",
   "metadata": {},
   "source": [
    "### Follow the Instructions\n",
    "* **Precision and attention to detail** are important in industry.\n",
    "* **Use only what has been covered**\n",
    "    * I selected exercises specifically to evaluate your skills. \n",
    "    * I realize some of you know better ways."
   ]
  },
  {
   "cell_type": "markdown",
   "metadata": {},
   "source": [
    "### Practice Writing Professional Descriptions\n",
    "* **Put your explanations in Markdown cells** and use nice formatting.\n",
    "    * Do not put your explanations in the code. For example, markdown cells wrap paragraph text, comments don't. \n",
    "    * I had to scroll horizontally to see some of your explanations.\n",
    "    * Part of designing a notebook is designing a good user experience.\n",
    "* No spelling errors, proper grammar, etc.\n",
    "    * [A JupyterLab spelling checker extension](https://github.com/ijmbarr/jupyterlab_spellchecker#:~:text=A%20JupyterLab%20extension%20highlighting%20misspelled,available%20from%20the%20context%20menu.)—I have not tried it yet. \n",
    "* Use clear, correct, complete sentences when answering questions. Many of you have English as a second language. The English language has many quirks and how you word something can change its meaning. Precision is important.\n",
    "* Use free tools like Grammarly to check your grammar and make sure it's correct. \n",
    "    * Grammarly is a free browser extension that integrates with things like Google docs and Office 365. \n",
    "    * Copy text out of your notebook and put it in a document so Grammarly can scan it and suggest improvements.\n",
    "* GitHub Code Portfolio\n",
    "    * Write every notebook as if you'll post it and an employer might see it\n",
    "    * Make a good first impression with your formatting"
   ]
  },
  {
   "cell_type": "markdown",
   "metadata": {},
   "source": [
    "### Write Your Code for Others to Understand\n",
    "* **IMPORTANT** Your code should be readable and understandable to others, not just you.\n",
    "    * Study the [Python Style Guide](https://www.python.org/dev/peps/pep-0008/) and use the recommended conventions"
   ]
  },
  {
   "cell_type": "markdown",
   "metadata": {},
   "source": [
    "### Other Notes\n",
    "* You don't need to use `print` everywhere—sometimes just evaluating an expression in Jupyter or IPython to display its value is enough."
   ]
  },
  {
   "cell_type": "markdown",
   "metadata": {},
   "source": [
    "<hr>"
   ]
  },
  {
   "cell_type": "markdown",
   "metadata": {},
   "source": [
    "# Markdown"
   ]
  },
  {
   "cell_type": "code",
   "execution_count": null,
   "metadata": {
    "colab": {},
    "colab_type": "code",
    "id": "izAKv9BqsksQ"
   },
   "outputs": [],
   "source": [
    "'I did all the required exercises and fully understand them.'"
   ]
  },
  {
   "cell_type": "code",
   "execution_count": null,
   "metadata": {
    "colab": {},
    "colab_type": "code",
    "id": "izAKv9BqsksQ",
    "tags": []
   },
   "outputs": [],
   "source": [
    "\"\"\"I did all the required exercises and fully understand them.\"\"\""
   ]
  },
  {
   "cell_type": "markdown",
   "metadata": {},
   "source": [
    "**Self-Assessment:** I did all the required exercises and fully understand them."
   ]
  },
  {
   "cell_type": "markdown",
   "metadata": {
    "tags": []
   },
   "source": [
    "### 2.2 (WHAT’S WRONG WITH THIS CODE?)\n",
    "* The following code should read an integer into the variable `rating`\n",
    "\n",
    "`rating = input('Enter an integer rating between 1 and 10')`"
   ]
  },
  {
   "cell_type": "markdown",
   "metadata": {
    "tags": []
   },
   "source": [
    "### 2.2 (WHAT’S WRONG WITH THIS CODE?)\n",
    "* The following code should read an integer into the variable `rating`\n",
    "\n",
    "```python\n",
    "rating = input('Enter an integer rating between 1 and 10')\n",
    "```"
   ]
  },
  {
   "cell_type": "markdown",
   "metadata": {},
   "source": [
    "<hr/>"
   ]
  },
  {
   "cell_type": "markdown",
   "metadata": {},
   "source": [
    "# Self-Assessment\n",
    "I did all the required exercises and fully understand them."
   ]
  },
  {
   "cell_type": "markdown",
   "metadata": {},
   "source": [
    "<hr/>"
   ]
  },
  {
   "cell_type": "markdown",
   "metadata": {},
   "source": [
    "# Notebook Readability"
   ]
  },
  {
   "cell_type": "markdown",
   "metadata": {
    "tags": []
   },
   "source": [
    "## Exercise Number and Title\n",
    "Problem statement/LabAssist notes (not required, but it's good formatting practice)"
   ]
  },
  {
   "cell_type": "markdown",
   "metadata": {},
   "source": [
    "Explanation  ..."
   ]
  },
  {
   "cell_type": "code",
   "execution_count": null,
   "metadata": {},
   "outputs": [],
   "source": [
    "# code that does the work"
   ]
  },
  {
   "cell_type": "markdown",
   "metadata": {
    "tags": []
   },
   "source": [
    "## Exercise Number and Title\n",
    "Problem statement/LabAssist notes (not required, but it's good formatting practice)"
   ]
  },
  {
   "cell_type": "markdown",
   "metadata": {},
   "source": [
    "a) description...\n",
    "\n",
    "Explanation ... "
   ]
  },
  {
   "cell_type": "code",
   "execution_count": null,
   "metadata": {},
   "outputs": [],
   "source": [
    "# code that does the work"
   ]
  },
  {
   "cell_type": "markdown",
   "metadata": {},
   "source": [
    "b) description...\n",
    "\n",
    "Explanation ... "
   ]
  },
  {
   "cell_type": "code",
   "execution_count": null,
   "metadata": {},
   "outputs": [],
   "source": [
    "# code that does the work"
   ]
  },
  {
   "cell_type": "markdown",
   "metadata": {},
   "source": [
    "c) description...\n",
    "\n",
    "Explanation ... "
   ]
  },
  {
   "cell_type": "code",
   "execution_count": null,
   "metadata": {},
   "outputs": [],
   "source": [
    "# code that does the work"
   ]
  },
  {
   "cell_type": "markdown",
   "metadata": {},
   "source": [
    "<hr>"
   ]
  },
  {
   "cell_type": "markdown",
   "metadata": {},
   "source": [
    "# Printing"
   ]
  },
  {
   "cell_type": "markdown",
   "metadata": {},
   "source": [
    "* sample snippet"
   ]
  },
  {
   "cell_type": "code",
   "execution_count": 5,
   "metadata": {
    "tags": []
   },
   "outputs": [],
   "source": [
    "x = 10\n",
    "y = 20\n",
    "z = 30"
   ]
  },
  {
   "cell_type": "code",
   "execution_count": 6,
   "metadata": {
    "tags": []
   },
   "outputs": [
    {
     "name": "stdout",
     "output_type": "stream",
     "text": [
      "The sum of the three numbers is 60\n"
     ]
    }
   ],
   "source": [
    "print('The sum of the three numbers is ' + str(x+y+z))"
   ]
  },
  {
   "cell_type": "markdown",
   "metadata": {},
   "source": [
    "* better"
   ]
  },
  {
   "cell_type": "code",
   "execution_count": 7,
   "metadata": {
    "tags": []
   },
   "outputs": [
    {
     "name": "stdout",
     "output_type": "stream",
     "text": [
      "The sum of the three numbers is 60\n"
     ]
    }
   ],
   "source": [
    "print('The sum of the three numbers is', x + y + z)"
   ]
  },
  {
   "cell_type": "markdown",
   "metadata": {},
   "source": [
    "* sample snippet"
   ]
  },
  {
   "cell_type": "code",
   "execution_count": 8,
   "metadata": {
    "tags": []
   },
   "outputs": [
    {
     "name": "stdout",
     "output_type": "stream",
     "text": [
      "The sum of the three numbers is: 60 \n",
      "The average of the three numbers is: 20.0 \n",
      "The product of the three numbers is: 6000 \n",
      "The smallest number is: 10 \n",
      "The largest number is: 30\n"
     ]
    }
   ],
   "source": [
    "print('The sum of the three numbers is:', x+y+z, \\\n",
    "      '\\nThe average of the three numbers is:',(x+y+z)/3, \\\n",
    "      '\\nThe product of the three numbers is:', x*y*z, \\\n",
    "      '\\nThe smallest number is:', min(x,y,z), \\\n",
    "      '\\nThe largest number is:',max(x,y,z))"
   ]
  },
  {
   "cell_type": "markdown",
   "metadata": {},
   "source": [
    "* better"
   ]
  },
  {
   "cell_type": "code",
   "execution_count": 9,
   "metadata": {
    "tags": []
   },
   "outputs": [
    {
     "name": "stdout",
     "output_type": "stream",
     "text": [
      "The sum of the three numbers is: 60 \n",
      "The average of the three numbers is: 20.0 \n",
      "The product of the three numbers is: 6000 \n",
      "The smallest number is: 10 \n",
      "The largest number is: 30\n"
     ]
    }
   ],
   "source": [
    "print('The sum of the three numbers is:', x + y + z, \n",
    "      '\\nThe average of the three numbers is:', (x + y + z ) / 3, \n",
    "      '\\nThe product of the three numbers is:', x * y * z, \n",
    "      '\\nThe smallest number is:', min(x, y, z), \n",
    "      '\\nThe largest number is:', max(x, y, z))"
   ]
  },
  {
   "cell_type": "markdown",
   "metadata": {},
   "source": [
    "* or even better, the following with no newline characters because print automatically outputs one when it completes execution"
   ]
  },
  {
   "cell_type": "code",
   "execution_count": 10,
   "metadata": {
    "tags": []
   },
   "outputs": [
    {
     "name": "stdout",
     "output_type": "stream",
     "text": [
      "The sum of the three numbers is: 60\n",
      "The average of the three numbers is: 20.0\n",
      "The product of the three numbers is: 6000\n",
      "The smallest number is: 10\n",
      "The largest number is: 30\n"
     ]
    }
   ],
   "source": [
    "print('The sum of the three numbers is:', x + y + z)\n",
    "print('The average of the three numbers is:', (x + y + z ) / 3) \n",
    "print('The product of the three numbers is:', x * y * z)\n",
    "print('The smallest number is:', min(x, y, z))\n",
    "print('The largest number is:', max(x, y, z))"
   ]
  },
  {
   "cell_type": "markdown",
   "metadata": {},
   "source": [
    "<hr>"
   ]
  },
  {
   "cell_type": "markdown",
   "metadata": {
    "tags": []
   },
   "source": [
    "# 2.2 What's Wrong With This Code?"
   ]
  },
  {
   "cell_type": "code",
   "execution_count": 13,
   "metadata": {
    "tags": []
   },
   "outputs": [
    {
     "name": "stdin",
     "output_type": "stream",
     "text": [
      "Enter an integer rating between 1 and 10 7\n"
     ]
    }
   ],
   "source": [
    "rating = input('Enter an integer rating between 1 and 10')"
   ]
  },
  {
   "cell_type": "code",
   "execution_count": null,
   "metadata": {},
   "outputs": [],
   "source": [
    "type(rating)"
   ]
  },
  {
   "cell_type": "code",
   "execution_count": 14,
   "metadata": {
    "tags": []
   },
   "outputs": [
    {
     "name": "stdin",
     "output_type": "stream",
     "text": [
      "Enter an integer rating between 1 and 10:  7\n"
     ]
    }
   ],
   "source": [
    "rating = int(input('Enter an integer rating between 1 and 10: '))"
   ]
  },
  {
   "cell_type": "code",
   "execution_count": 15,
   "metadata": {
    "tags": []
   },
   "outputs": [
    {
     "data": {
      "text/plain": [
       "int"
      ]
     },
     "execution_count": 15,
     "metadata": {},
     "output_type": "execute_result"
    }
   ],
   "source": [
    "type(rating)"
   ]
  },
  {
   "cell_type": "markdown",
   "metadata": {},
   "source": [
    "<hr>"
   ]
  },
  {
   "cell_type": "markdown",
   "metadata": {},
   "source": [
    "# 2.10 Arithmetic, Smallest and Largest\n",
    "* Please  don't use features that are not covered through the chapter of the exercise.\n",
    "* Sometimes doing so actually makes your code more complex than it needs to be, as in"
   ]
  },
  {
   "cell_type": "code",
   "execution_count": null,
   "metadata": {},
   "outputs": [],
   "source": [
    "# Finding the smallest integer\n",
    "if int_1 <= int_2 and int_1 <= int_3:\n",
    "    smallest = int_1\n",
    "elif int_2 <= int_1 and int_2 <= int_3:\n",
    "    smallest = int_2\n",
    "else:\n",
    "    smallest = int_3"
   ]
  },
  {
   "cell_type": "markdown",
   "metadata": {},
   "source": [
    "## 2.10 Solution"
   ]
  },
  {
   "cell_type": "code",
   "execution_count": null,
   "metadata": {},
   "outputs": [],
   "source": [
    "number1 = int(input('Enter first integer: '))"
   ]
  },
  {
   "cell_type": "code",
   "execution_count": null,
   "metadata": {},
   "outputs": [],
   "source": [
    "number2 = int(input('Enter second integer: '))"
   ]
  },
  {
   "cell_type": "code",
   "execution_count": null,
   "metadata": {},
   "outputs": [],
   "source": [
    "number3 = int(input('Enter third integer: '))"
   ]
  },
  {
   "cell_type": "code",
   "execution_count": null,
   "metadata": {},
   "outputs": [],
   "source": [
    "print('Sum:', number1 + number2 + number3)"
   ]
  },
  {
   "cell_type": "code",
   "execution_count": null,
   "metadata": {},
   "outputs": [],
   "source": [
    "print('Average:', (number1 + number2 + number3) / 3)"
   ]
  },
  {
   "cell_type": "code",
   "execution_count": null,
   "metadata": {},
   "outputs": [],
   "source": [
    "print('Product:', number1 * number2 * number3)"
   ]
  },
  {
   "cell_type": "code",
   "execution_count": null,
   "metadata": {},
   "outputs": [],
   "source": [
    "smallest = number1\n",
    "\n",
    "if number2 < smallest: \n",
    "    smallest = number2\n",
    "    \n",
    "if number3 < smallest: \n",
    "    smallest = number3"
   ]
  },
  {
   "cell_type": "code",
   "execution_count": null,
   "metadata": {},
   "outputs": [],
   "source": [
    "print('Smallest:', smallest)"
   ]
  },
  {
   "cell_type": "code",
   "execution_count": null,
   "metadata": {},
   "outputs": [],
   "source": [
    "print('Smallest:', min(number1, number2, number3))"
   ]
  },
  {
   "cell_type": "code",
   "execution_count": null,
   "metadata": {},
   "outputs": [],
   "source": [
    "largest = number1\n",
    "\n",
    "if number2 > largest: \n",
    "    largest = number2\n",
    "    \n",
    "if number3 > largest: \n",
    "    largest = number3"
   ]
  },
  {
   "cell_type": "code",
   "execution_count": null,
   "metadata": {},
   "outputs": [],
   "source": [
    "print('Largest:', largest)"
   ]
  },
  {
   "cell_type": "code",
   "execution_count": null,
   "metadata": {},
   "outputs": [],
   "source": [
    "print('Largest:', max(number1, number2, number3))"
   ]
  },
  {
   "cell_type": "markdown",
   "metadata": {},
   "source": [
    "<hr>"
   ]
  },
  {
   "cell_type": "markdown",
   "metadata": {
    "tags": []
   },
   "source": [
    "# 2.12 7% Investment Return\n",
    "* **Would you submit the following text as a part of a report to a professor of a graded course or to your boss?**"
   ]
  },
  {
   "cell_type": "markdown",
   "metadata": {},
   "source": [
    "Some investment advisors say that it’s reasonable to expect a 7% return over the long term in the stock market. Assuming that you begin with $1000 and leave your money invested, calculate and display how much money you’ll have after 10, 20 and 30 years. Use the following formula for determining these amounts:\n",
    "a = p(1 + r)n\n",
    "where\n",
    "p is the original amount invested (i.e., the principal of $1000),\n",
    "r is the annual rate of return (7%),\n",
    "n is the number of years (10, 20 or 30) and\n",
    "a is the amount on deposit at the end of the nth year."
   ]
  },
  {
   "cell_type": "markdown",
   "metadata": {
    "tags": []
   },
   "source": [
    "Some investment advisors say that it’s reasonable to expect a 7% return over the long term in the stock market. Assuming that you begin with \\$1000 and leave your money invested, calculate and display how much money you’ll have after 10, 20 and 30 years. Use the following formula for determining these amounts:\n",
    "> a = p(1 + r)<sup>n</sup>\n",
    "\n",
    "where\n",
    "* p is the original amount invested (i.e., the principal of $1000),\n",
    "* r is the annual rate of return (7%),\n",
    "* n is the number of years (10, 20 or 30) and\n",
    "* a is the amount on deposit at the end of the nth year."
   ]
  },
  {
   "cell_type": "code",
   "execution_count": 16,
   "metadata": {
    "tags": []
   },
   "outputs": [],
   "source": [
    "p = 1000\n",
    "r = .07"
   ]
  },
  {
   "cell_type": "code",
   "execution_count": 17,
   "metadata": {
    "tags": []
   },
   "outputs": [
    {
     "name": "stdout",
     "output_type": "stream",
     "text": [
      "10 year return: 1967.1513572895665\n"
     ]
    }
   ],
   "source": [
    "n = 10\n",
    "a = p * (1 + r) ** n\n",
    "print('10 year return:', a)"
   ]
  },
  {
   "cell_type": "code",
   "execution_count": 18,
   "metadata": {
    "tags": []
   },
   "outputs": [
    {
     "name": "stdout",
     "output_type": "stream",
     "text": [
      "20 year return: 3869.6844624861833\n"
     ]
    }
   ],
   "source": [
    "n = 20\n",
    "a = p * (1 + r) ** n\n",
    "print('20 year return:', a)"
   ]
  },
  {
   "cell_type": "code",
   "execution_count": 19,
   "metadata": {
    "tags": []
   },
   "outputs": [
    {
     "name": "stdout",
     "output_type": "stream",
     "text": [
      "30 year return: 7612.255042662042\n"
     ]
    }
   ],
   "source": [
    "n = 30\n",
    "a = p * (1 + r) ** n\n",
    "print('30 year return:', a)"
   ]
  },
  {
   "cell_type": "markdown",
   "metadata": {},
   "source": [
    "<hr>"
   ]
  },
  {
   "cell_type": "markdown",
   "metadata": {},
   "source": [
    "# 2.13 How Big Can Python Integers Be?\n",
    "Is the output of the following cell useful?"
   ]
  },
  {
   "cell_type": "code",
   "execution_count": 6,
   "metadata": {},
   "outputs": [
    {
     "name": "stdout",
     "output_type": "stream",
     "text": [
      "10000000000\n",
      "10000000000000000000000000000000000000000000000000000000000000000000000000000000000000000000000000000\n",
      "10000000000000000000000000000000000000000000000000000000000000000000000000000000000000000000000000000000000000000000000000000000000000000000000000000000000000000000000000000000000000000000000000000000000000000000000000000000000000000000000000000000000000000000000000000000000000000000000000000000000000000000000000000000000000000000000000000000000000000000000000000000000000000000000000000000000000000000000000000000000000000000000000000000000000000000000000000000000000000000000000000000000000000000000000000000000000000000000000000000000000000000000000000000000000000000000000000000000000000000000000000000000000000000000000000000000000000000000000000000000000000000000000000000000000000000000000000000000000000000000000000000000000000000000000000000000000000000000000000000000000000000000000000000000000000000000000000000000000000000000000000000000000000000000000000000000000000000000000000000000000000000000000000000000000000000000000000000000000000000000000000000000000000000000000000000000000000\n"
     ]
    }
   ],
   "source": [
    "print(10 ** 10)\n",
    "print(10 ** 100)\n",
    "print(10 ** 1000)"
   ]
  },
  {
   "cell_type": "markdown",
   "metadata": {},
   "source": [
    "### LabAssist \n",
    "\"use the \\*\\* operator to raise 10 to the powers 10, 100 and 1000 to prove this.\""
   ]
  },
  {
   "cell_type": "code",
   "execution_count": 20,
   "metadata": {
    "tags": []
   },
   "outputs": [
    {
     "data": {
      "text/plain": [
       "10000000000"
      ]
     },
     "execution_count": 20,
     "metadata": {},
     "output_type": "execute_result"
    }
   ],
   "source": [
    "10 ** 10"
   ]
  },
  {
   "cell_type": "code",
   "execution_count": 8,
   "metadata": {},
   "outputs": [
    {
     "data": {
      "text/plain": [
       "10000000000000000000000000000000000000000000000000000000000000000000000000000000000000000000000000000"
      ]
     },
     "execution_count": 8,
     "metadata": {},
     "output_type": "execute_result"
    }
   ],
   "source": [
    "10 ** 100"
   ]
  },
  {
   "cell_type": "code",
   "execution_count": 9,
   "metadata": {},
   "outputs": [
    {
     "data": {
      "text/plain": [
       "10000000000000000000000000000000000000000000000000000000000000000000000000000000000000000000000000000000000000000000000000000000000000000000000000000000000000000000000000000000000000000000000000000000000000000000000000000000000000000000000000000000000000000000000000000000000000000000000000000000000000000000000000000000000000000000000000000000000000000000000000000000000000000000000000000000000000000000000000000000000000000000000000000000000000000000000000000000000000000000000000000000000000000000000000000000000000000000000000000000000000000000000000000000000000000000000000000000000000000000000000000000000000000000000000000000000000000000000000000000000000000000000000000000000000000000000000000000000000000000000000000000000000000000000000000000000000000000000000000000000000000000000000000000000000000000000000000000000000000000000000000000000000000000000000000000000000000000000000000000000000000000000000000000000000000000000000000000000000000000000000000000000000000000000000000000000000000"
      ]
     },
     "execution_count": 9,
     "metadata": {},
     "output_type": "execute_result"
    }
   ],
   "source": [
    "10 ** 1000"
   ]
  },
  {
   "cell_type": "markdown",
   "metadata": {},
   "source": [
    "Based on the numbers above, you can reasonably say there is no upper limit. Just to give you a sense of how big 10 ** 1000 is, it is believed there are 10<sup>78</sup> to 10<sup>82</sup> atoms in the known universe. "
   ]
  },
  {
   "cell_type": "code",
   "execution_count": 12,
   "metadata": {
    "tags": []
   },
   "outputs": [
    {
     "data": {
      "text/plain": [
       "10000000000000000000000000000000000000000000000000000000000000000000000000000000000"
      ]
     },
     "execution_count": 12,
     "metadata": {},
     "output_type": "execute_result"
    }
   ],
   "source": [
    "10 ** 82 # much smaller number than 10 ** 1000"
   ]
  },
  {
   "cell_type": "markdown",
   "metadata": {},
   "source": [
    "<hr>"
   ]
  },
  {
   "cell_type": "markdown",
   "metadata": {
    "slideshow": {
     "slide_type": "slide"
    },
    "tags": []
   },
   "source": [
    "# Jupyter and Markdown Reference"
   ]
  },
  {
   "cell_type": "markdown",
   "metadata": {},
   "source": [
    "<hr>"
   ]
  },
  {
   "cell_type": "markdown",
   "metadata": {},
   "source": [
    "## Jupyter Shortcuts\n",
    "### The following assume a cell is selected by clicking its left margin\n",
    "* `c` to copy a cell\n",
    "* `v` to paste a cell below the currently selected cell\n",
    "* `a` to insert cell above the currently selected cell\n",
    "* `b` to insert cell below the currently selected cell\n",
    "* `dd` to delete the currently selected cell\n",
    "* `m` to convert the currently selected cell to Markdown\n",
    "* _Shift_ + `m` to merge a range of selected cells\n",
    "\n",
    "### Splitting cells\n",
    "* _Ctrl_ + _Shift_ + `-` to split a cell at the cursor position"
   ]
  },
  {
   "cell_type": "markdown",
   "metadata": {},
   "source": [
    "<hr>"
   ]
  },
  {
   "cell_type": "markdown",
   "metadata": {
    "tags": []
   },
   "source": [
    "## HEADINGS\n",
    "* Headings should be meaningful. Always assume someone else is going to read your notebooks. \n",
    "* Use proper headings (#, ##, ###, etc.), rather than inserting text and making it bold. \n",
    "* Notebooks are often published as HTML online\n",
    "    * Web accessibility is important\n",
    "    * Sometimes it's required\n",
    "    \n",
    "# H1 head\n",
    "## H2 head\n",
    "### H3 head (probably won't need past here for most notebooks)\n",
    "#### H4 head\n",
    "##### H5 head\n",
    "###### H6 head"
   ]
  },
  {
   "cell_type": "markdown",
   "metadata": {},
   "source": [
    "---"
   ]
  },
  {
   "cell_type": "markdown",
   "metadata": {},
   "source": [
    "## Formatting\n",
    "The notes below are in a bullet list, which uses hanging indents\n",
    "* force a line break with two spaces at the end of the line  \n",
    "(note this line is indented to the same level as the prior line\n",
    "* Paragraphs are simply separated by a blank line\n",
    "* **Bold** text\n",
    "* _Italic_ text\n",
    "* `code` font in the middle of a paragraph\n",
    "* ~~lineout~~\n",
    "* [Custom hyperlink text (to deitel.com)](https://deitel.com)\n",
    "* https://python.org (URLs are autolinked)\n",
    "* The following is an indented block of text\n",
    "> Block quote\n",
    "> * anything can appear in a block quote\n",
    "> > Even another block quote\n",
    "* Horizontal line is at least three dashes\n",
    "---\n",
    "Numbered lists have hanging indents\n",
    "1. first  \n",
    "2. second \n",
    "    1. Note that this becomes A\n",
    "    2. Note that this becomes B\n",
    "        1. Note that this becomes a\n",
    "        2. Note that this becomes b\n",
    "            1. Note that this becomes i\n",
    "            2. Note that this becomes ii\n",
    "3. Nested numbered or bulleted lists are designated by tabs at the beginning of the line"
   ]
  },
  {
   "cell_type": "markdown",
   "metadata": {},
   "source": [
    "---"
   ]
  },
  {
   "cell_type": "markdown",
   "metadata": {},
   "source": [
    "# Code Blocks\n",
    "* Three back ticks (\\`) on a line by themselves, followed by code, followed by three back ticks (\\`) on a line by themselves\n",
    "* Jupyter has built in code syntax coloring for many languages—kernel dependent\n",
    "* Plain code\n",
    "\n",
    "```\n",
    "if number2 < minimum:\n",
    "    minimum = number2\n",
    "\n",
    "print('Minimum value is', minimum)\n",
    "\n",
    "```\n",
    "\n",
    "* Code with syntax coloring\n",
    "\n",
    "```python\n",
    "if number2 < minimum:\n",
    "    minimum = number2\n",
    "\n",
    "print('Minimum value is', minimum)\n",
    "```\n",
    "\n",
    "* You **do not need to do this** for code cells—they're code font and syntax colored automatically "
   ]
  },
  {
   "cell_type": "markdown",
   "metadata": {},
   "source": [
    "---"
   ]
  },
  {
   "cell_type": "markdown",
   "metadata": {},
   "source": [
    "# Formulas \n",
    "* $\\LaTeX$\n",
    "* Inline: $y = m_1 x_1 + m_2 x_2 + ... + m_n x_n + b$\n",
    "* Standalone: $$y = m_1 x_1 + m_2 x_2 + ... + m_n x_n + b$$\n",
    "\n",
    "> Formula Resources\n",
    "> * https://medium.com/analytics-vidhya/writing-math-equations-in-jupyter-notebook-a-naive-introduction-a5ce87b9a214\n",
    "> * https://en.wikibooks.org/wiki/LaTeX/Mathematics\n",
    "> * https://www.macinchem.org/reviews/LaTeXinJupyter.php"
   ]
  },
  {
   "cell_type": "markdown",
   "metadata": {},
   "source": [
    "---"
   ]
  },
  {
   "cell_type": "markdown",
   "metadata": {},
   "source": [
    "# Images\n",
    "* You also can use an `<img>` HTML element for finer control.\n",
    "\n",
    "![Deitel Bug Logo](./bug.png \"This is popup tooltip text commonly used by screen readers for accessibility\")"
   ]
  },
  {
   "cell_type": "markdown",
   "metadata": {},
   "source": [
    "---"
   ]
  },
  {
   "cell_type": "markdown",
   "metadata": {},
   "source": [
    "# Horizontal Line Separators\n",
    "* horizontal line separators can be added with at least three dashes on a line by themselves or `<hr/>`\n",
    "---\n",
    "<hr/>\n"
   ]
  },
  {
   "cell_type": "markdown",
   "metadata": {},
   "source": [
    "&copy; Copyright 2020 by Deitel & Associates, Inc. All Rights Reserved. https://deitel.com, paul@deitel.com "
   ]
  },
  {
   "cell_type": "markdown",
   "metadata": {},
   "source": [
    "<hr>"
   ]
  }
 ],
 "metadata": {
  "kernelspec": {
   "display_name": "Python 3 (ipykernel)",
   "language": "python",
   "name": "python3"
  },
  "language_info": {
   "codemirror_mode": {
    "name": "ipython",
    "version": 3
   },
   "file_extension": ".py",
   "mimetype": "text/x-python",
   "name": "python",
   "nbconvert_exporter": "python",
   "pygments_lexer": "ipython3",
   "version": "3.11.5"
  }
 },
 "nbformat": 4,
 "nbformat_minor": 4
}
