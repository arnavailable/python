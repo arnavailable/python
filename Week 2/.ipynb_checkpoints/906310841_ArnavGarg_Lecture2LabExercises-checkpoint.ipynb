{
 "cells": [
  {
   "cell_type": "markdown",
   "id": "98b6cbdb-8957-43ed-a59d-94c1e7a8e8c3",
   "metadata": {
    "tags": []
   },
   "source": [
    "<span style=\"color:green\"> I did all the required exercises and fully understand them.</span>"
   ]
  },
  {
   "cell_type": "markdown",
   "id": "df0e0964-eb42-49a5-aadd-0cd8edc652f2",
   "metadata": {},
   "source": [
    "Exercise | Comments\n",
    "---|---\n",
    "3.10|Done\n",
    "3.17|Done\n",
    "3.26|Done\n",
    "3.31|Done"
   ]
  },
  {
   "cell_type": "markdown",
   "id": "db5692b5-d231-4045-bc66-16116876a937",
   "metadata": {},
   "source": [
    "# <u>Chapter 3 Lab Exercises</u>"
   ]
  },
  {
   "cell_type": "markdown",
   "id": "69e0dc1a-6f2d-490e-9554-9eb9c7e53630",
   "metadata": {},
   "source": [
    "## _**3.10** 7% Investment Return_"
   ]
  },
  {
   "cell_type": "code",
   "execution_count": 27,
   "id": "d07ea0b3-0f3c-4f1f-a194-c14b19807ed8",
   "metadata": {
    "tags": []
   },
   "outputs": [
    {
     "name": "stdout",
     "output_type": "stream",
     "text": [
      "Investment of $1000 at 7% return will become $1967.1513572895665 over 10 years\n",
      "Investment of $1000 at 7% return will become $3869.6844624861833 over 20 years\n",
      "Investment of $1000 at 7% return will become $7612.255042662042 over 30 years\n"
     ]
    }
   ],
   "source": [
    "for year in (10, 20, 30):\n",
    "    \n",
    "    investment = 1000 * ((1 + 0.07) ** year) ## Formula used is a = p(1 + r)^n where p = $1000 and r = 0.07\n",
    "    \n",
    "    print(\"Investment of $1000 at 7% return will become $\" + str(investment) + \" over \" + str(year) + \" years\")"
   ]
  },
  {
   "cell_type": "markdown",
   "id": "e73c000a-7cdc-4e9f-9ebb-8f1500916c4d",
   "metadata": {
    "tags": []
   },
   "source": [
    "I have used a for loop to iterate over years **10**, **20** and **30**. For each iteration, the code calculates the investment and prints it out."
   ]
  },
  {
   "cell_type": "markdown",
   "id": "9633c485-630f-439e-b7b9-92a70e429e45",
   "metadata": {},
   "source": [
    "## _**3.17** Nested Loops_"
   ]
  },
  {
   "cell_type": "code",
   "execution_count": 25,
   "id": "89e31fa3-1619-436e-a17b-743ea1901880",
   "metadata": {
    "tags": []
   },
   "outputs": [
    {
     "name": "stdout",
     "output_type": "stream",
     "text": [
      "*\n",
      "\n",
      "**\n",
      "\n",
      "***\n",
      "\n",
      "****\n",
      "\n",
      "*****\n",
      "\n",
      "******\n",
      "\n",
      "*******\n",
      "\n",
      "********\n",
      "\n",
      "*********\n",
      "\n",
      "**********\n",
      "\n",
      "\n",
      "\n",
      "**********\n",
      "\n",
      "*********\n",
      "\n",
      "********\n",
      "\n",
      "*******\n",
      "\n",
      "******\n",
      "\n",
      "*****\n",
      "\n",
      "****\n",
      "\n",
      "***\n",
      "\n",
      "**\n",
      "\n",
      "*\n",
      "\n",
      "\n",
      "\n",
      "**********\n",
      "\n",
      " *********\n",
      "\n",
      "  ********\n",
      "\n",
      "   *******\n",
      "\n",
      "    ******\n",
      "\n",
      "     *****\n",
      "\n",
      "      ****\n",
      "\n",
      "       ***\n",
      "\n",
      "        **\n",
      "\n",
      "         *\n",
      "\n",
      "\n",
      "\n",
      "         *\n",
      "\n",
      "        **\n",
      "\n",
      "       ***\n",
      "\n",
      "      ****\n",
      "\n",
      "     *****\n",
      "\n",
      "    ******\n",
      "\n",
      "   *******\n",
      "\n",
      "  ********\n",
      "\n",
      " *********\n",
      "\n",
      "**********\n",
      "\n"
     ]
    }
   ],
   "source": [
    "rows = 10\n",
    "\n",
    "for row in range(rows):\n",
    "    for star in range(row + 1):\n",
    "        print('*', end='')\n",
    "    print('\\n')\n",
    "print('\\n')\n",
    "\n",
    "for row in range(rows):\n",
    "    for star in range(rows, row, -1):\n",
    "        print('*', end='')\n",
    "    print('\\n')\n",
    "print('\\n')\n",
    "\n",
    "for row in range(rows):\n",
    "    for star in range(row):\n",
    "        print(' ', end='')\n",
    "    for star in range(rows, row, -1):\n",
    "        print('*', end='')\n",
    "    print('\\n')\n",
    "print('\\n')\n",
    "\n",
    "for row in range(rows):\n",
    "    for star in range(rows, row + 1, -1):\n",
    "        print(' ', end='')\n",
    "    for star in range(row + 1):\n",
    "        print('*', end='')\n",
    "    print('\\n')"
   ]
  },
  {
   "cell_type": "markdown",
   "id": "4fb409c5-01bc-4d8a-9d0a-efca5988e2ef",
   "metadata": {},
   "source": [
    "For this exercise, I used 4 nested **for** loops to generate the patterns. For each part the `total number of rows` = 10.\n",
    "* For `part a`, the `number of stars` = `row number` + 1\n",
    "* For `part b`, the `number of stars` = `total number of rows` - `row number`\n",
    "* For `part c`, the `number of spaces` = `row number`, `number of stars` = `total number of rows` - `row number`\n",
    "* For `part d`, the `number of spaces` = `total number of rows` - `row number` - 1, `number of stars` = `row number` + 1"
   ]
  },
  {
   "cell_type": "markdown",
   "id": "704e9ba8-3b5a-4daf-8585-a7157ca7f799",
   "metadata": {},
   "source": [
    "## _**3.26** Data Science Research: Anscombe’s Quartet_"
   ]
  },
  {
   "cell_type": "markdown",
   "id": "a88b83be-9b5c-4a44-8a05-06c1304c6bda",
   "metadata": {
    "tags": []
   },
   "source": [
    "Anscombe's Quartet captures the essence of graphical statistics. It illustrates how descriptive statistics can be misleading sometimes. Even if two datasets have identical metrics such as mean and variance, the data sets might be completely different from each other. It also shows how one outlier can completely transform the measures of central tendency of a numerical data set. Personally, it acts as a word of caution for me to not only rely on numerical metrics, but also look closely on the graphical statistics for each data set that I analyse."
   ]
  },
  {
   "cell_type": "markdown",
   "id": "d6958329-c18d-44e5-a2fd-21a2705bbb0a",
   "metadata": {},
   "source": [
    "## _**3.31** Data Science: Categorical Data_"
   ]
  },
  {
   "cell_type": "markdown",
   "id": "1ab61fef-7a55-4308-a196-d74dc4f629a4",
   "metadata": {},
   "source": [
    "In my opinion, we can measure central tendency for categorical data through the `frequency` of each category. Since different categories cannot overlap, we don't have any other option than to measure the total `count` of each category. This metroc correlates to the `mode` in descriptive statistics."
   ]
  }
 ],
 "metadata": {
  "kernelspec": {
   "display_name": "Python 3 (ipykernel)",
   "language": "python",
   "name": "python3"
  },
  "language_info": {
   "codemirror_mode": {
    "name": "ipython",
    "version": 3
   },
   "file_extension": ".py",
   "mimetype": "text/x-python",
   "name": "python",
   "nbconvert_exporter": "python",
   "pygments_lexer": "ipython3",
   "version": "3.11.4"
  }
 },
 "nbformat": 4,
 "nbformat_minor": 5
}
